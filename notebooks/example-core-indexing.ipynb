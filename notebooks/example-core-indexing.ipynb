{
 "cells": [
  {
   "cell_type": "markdown",
   "id": "dda13e90-ca73-4d6f-8736-bf1f9d494df2",
   "metadata": {},
   "source": [
    "# Core Document Ingest"
   ]
  },
  {
   "cell_type": "markdown",
   "id": "7e2c07b1-6651-42b3-95fa-469d2516cf64",
   "metadata": {},
   "source": [
    "With Vectara, document text can be ingested with [Structured Documents](https://docs.vectara.com/docs/api-reference/indexing-apis/indexing#structured-document-object-definition) or [Core Documents](https://docs.vectara.com/docs/api-reference/indexing-apis/indexing#core-document-object-definition).\n",
    "\n",
    "When you use the Core document, you have more control over document chunks - Vectara would not perform any chunking and would use the provided chunks (we call them \"document parts\") as is for purposes of vector encoding (with the embedding model) and retrieval.\n",
    "\n",
    "This notebook shows the example code of how to ingest chunks using the Python SDK and directly using the API.\n"
   ]
  },
  {
   "cell_type": "code",
   "execution_count": 1,
   "id": "9e3c9e82-46e3-4038-b662-59b3a6fcdead",
   "metadata": {},
   "outputs": [],
   "source": [
    "from vectara import Vectara, CoreDocument, CoreDocumentPart\n",
    "import requests\n",
    "import json\n",
    "import os"
   ]
  },
  {
   "cell_type": "markdown",
   "id": "f752deb4-8bff-484a-b7b8-25cb5fc0d262",
   "metadata": {},
   "source": [
    "## Setup\n",
    "\n",
    "Here we setup three sample chunks. Each chunk can have its own metadata fields, and we can also include a document-level metaata."
   ]
  },
  {
   "cell_type": "code",
   "execution_count": 2,
   "id": "aa1a8825-8296-4efd-beaa-d95f340f44e5",
   "metadata": {},
   "outputs": [],
   "source": [
    "custom_chunks = [\n",
    "    {'text': \"text chunk 1\", 'metadata': {'page': 1, 'section': '1'}},\n",
    "    {'text': \"text chunk 2\", 'metadata': {'page': 2, 'section': '2.1'}},\n",
    "    {'text': \"text chunk 3\", 'metadata': {'page': 2, 'section': '2.2'}},\n",
    "]\n",
    "\n",
    "doc_metadata = {\n",
    "    'url': 'https://example.com'\n",
    "}"
   ]
  },
  {
   "cell_type": "code",
   "execution_count": 3,
   "id": "444c55bc-3b3f-4aae-9c1f-0b11dae6b3a4",
   "metadata": {},
   "outputs": [],
   "source": [
    "api_key = os.environ['VECTARA_API_KEY']\n",
    "corpus_key = os.environ['VECTARA_CORPUS_KEY']"
   ]
  },
  {
   "cell_type": "markdown",
   "id": "2df9e763-9fb7-426f-8bfb-66de4e1cdf33",
   "metadata": {},
   "source": [
    "## Core indexing with SDK"
   ]
  },
  {
   "cell_type": "code",
   "execution_count": 4,
   "id": "322c0e66-7c23-41d7-b29e-9da02c90c39c",
   "metadata": {},
   "outputs": [
    {
     "data": {
      "text/plain": [
       "Document(id='my-document-id-sdk', metadata={'url': 'https://example.com'}, tables=None, parts=None, storage_usage=DocumentStorageUsage(bytes_used=36, metadata_bytes_used=105), extraction_usage=None)"
      ]
     },
     "execution_count": 4,
     "metadata": {},
     "output_type": "execute_result"
    }
   ],
   "source": [
    "doc_id = 'my-document-id-sdk'\n",
    "\n",
    "client = Vectara(api_key=api_key)\n",
    "client.documents.create(\n",
    "    corpus_key=corpus_key,\n",
    "    request=CoreDocument(\n",
    "        id=doc_id,\n",
    "        type=\"core\",\n",
    "        document_parts=[\n",
    "            CoreDocumentPart(text=chunk['text'], metadata=chunk['metadata']) for chunk in custom_chunks\n",
    "        ],\n",
    "        metadata=doc_metadata,\n",
    "    ),\n",
    ")"
   ]
  },
  {
   "cell_type": "markdown",
   "id": "a005a8dd-a2ab-4b9d-b379-ad080c4d9430",
   "metadata": {},
   "source": [
    "## Core indexing with API"
   ]
  },
  {
   "cell_type": "code",
   "execution_count": 5,
   "id": "891d3f2a-7df7-48b0-b54e-71b85065a19c",
   "metadata": {},
   "outputs": [
    {
     "name": "stdout",
     "output_type": "stream",
     "text": [
      "{\"id\":\"my-document-id-api\",\"metadata\":{\"url\":\"https://example.com\"},\"storage_usage\":{\"bytes_used\":36,\"metadata_bytes_used\":105}}\n"
     ]
    }
   ],
   "source": [
    "doc_id = 'my-document-id-api'\n",
    "\n",
    "doc = {\n",
    "    'id': doc_id,\n",
    "    'type': 'core',\n",
    "    'document_parts': [\n",
    "        {\n",
    "            'text': chunk['text'], \n",
    "            'metadata': chunk['metadata']\n",
    "        } for chunk in custom_chunks\n",
    "    ],\n",
    "    'metadata': doc_metadata,\n",
    "}\n",
    "\n",
    "url = f\"https://api.vectara.io/v2/corpora/{corpus_key}/documents\"\n",
    "payload = json.dumps(doc)\n",
    "headers = {\n",
    "  'Content-Type': 'application/json',\n",
    "  'Accept': 'application/json',\n",
    "  'x-api-key': api_key\n",
    "}\n",
    "response = requests.request(\"POST\", url, headers=headers, data=payload)\n",
    "print(response.text)"
   ]
  },
  {
   "cell_type": "code",
   "execution_count": null,
   "id": "722e6921-52b5-45ae-b7c7-7dcbb2dba11d",
   "metadata": {},
   "outputs": [],
   "source": []
  }
 ],
 "metadata": {
  "kernelspec": {
   "display_name": "Python 3 (ipykernel)",
   "language": "python",
   "name": "python3"
  },
  "language_info": {
   "codemirror_mode": {
    "name": "ipython",
    "version": 3
   },
   "file_extension": ".py",
   "mimetype": "text/x-python",
   "name": "python",
   "nbconvert_exporter": "python",
   "pygments_lexer": "ipython3",
   "version": "3.12.8"
  }
 },
 "nbformat": 4,
 "nbformat_minor": 5
}
