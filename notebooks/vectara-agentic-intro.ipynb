{
 "cells": [
  {
   "cell_type": "markdown",
   "id": "adf7d63d",
   "metadata": {},
   "source": [
    "<a href=\"https://colab.research.google.com/github/vectara/example-notebooks/blob/main/notebooks/vectara-agentic-intro.ipynb\" target=\"_parent\"><img src=\"https://colab.research.google.com/assets/colab-badge.svg\" alt=\"Open In Colab\"/></a>"
   ]
  },
  {
   "cell_type": "markdown",
   "id": "397bea86",
   "metadata": {},
   "source": [
    "# Introducing Vectara-Agentic: building AI assistants with Vectara"
   ]
  },
  {
   "cell_type": "markdown",
   "id": "db0855d0",
   "metadata": {},
   "source": [
    "## About Vectara\n",
    "\n",
    "[Vectara](https://vectara.com/) is the trusted GenAI RAG-as-a-service platform, providing a simple API for enterprise developers to created RAG applications that are enterprise ready.\n",
    "\n",
    "See the [Vectara API documentation](https://docs.vectara.com/docs/) for more information on how to use the API.\n",
    "\n",
    "The main benefits for using Vectara for a RAG application are:\n",
    "* **Easy to use**: Vectara provides an end-to-end, fully functional, highly scalable and robust RAG pipeline, so as a user you don't have to code up these pieces and maintain them over time.\n",
    "* **Scalable and Secure**: building GenAI applications may seem easy at first, but the DIY approach can become overwhelming beyond simple examples. Vectara provides instant scalablility to millions of documents, while maintaing data security and privacy, as well as latency SLAs."
   ]
  },
  {
   "cell_type": "markdown",
   "id": "6b33079b",
   "metadata": {},
   "source": [
    "## About Vectara-Agentic\n",
    "\n",
    "Agentic RAG is a method that combines the strengths of RAG with autonomous agents.\n",
    "\n",
    "With vanilla RAG, Vectara receives a user query, retrieves the most relevant facts from your data, and uses an LLM to generate the most accurate response based on those facts.\n",
    "\n",
    "Agentic RAG leverages an LLM to “manage” the process of answering the user query via reasoning, planning, and a provided set of “tools”. Since a “manager” LLM-powered agent is in charge, it is smart enough to analyze the user query and properly call tools to obtain a comprehensive response to a complex user query.\n",
    "\n",
    "[Vectara-agentic](https://vectara.github.io/vectara-agentic-docs/index.html) is a Python package that allows you to build Agentic RAG applications quickly with Vectara. "
   ]
  },
  {
   "cell_type": "markdown",
   "id": "cfe2497c",
   "metadata": {},
   "source": [
    "## Getting Started\n",
    "\n",
    "To get started you will need to:\n",
    "1. [sign up](https://console.vectara.com/signup?utm_source=vectara&utm_medium=signup&utm_term=DevRel&utm_content=example-notebooks&utm_campaign=vectara-signup-DevRel-example-notebooks) (if you haven't already) and follow our [quickstart](https://docs.vectara.com/docs/quickstart) guide to create a corpus and an API key. \n",
    "\n",
    "2. Install vectara-agentic using: `pip install vectara-agentic`"
   ]
  },
  {
   "cell_type": "code",
   "execution_count": 1,
   "id": "94f8a957-1279-455c-b5c6-d6aabe3b63a1",
   "metadata": {},
   "outputs": [
    {
     "name": "stdout",
     "output_type": "stream",
     "text": [
      "\u001b[33mWARNING: Ignoring invalid distribution -umpy (/Users/ofer/miniconda3/lib/python3.10/site-packages)\u001b[0m\u001b[33m\n",
      "\u001b[0m\u001b[33m  WARNING: Ignoring invalid distribution -umpy (/Users/ofer/miniconda3/lib/python3.10/site-packages)\u001b[0m\u001b[33m\n",
      "\u001b[0m\u001b[33mWARNING: Ignoring invalid distribution -umpy (/Users/ofer/miniconda3/lib/python3.10/site-packages)\u001b[0m\u001b[33m\n",
      "\u001b[0m\u001b[33m    WARNING: Ignoring invalid distribution -umpy (/Users/ofer/miniconda3/lib/python3.10/site-packages)\u001b[0m\u001b[33m\n",
      "\u001b[0m\u001b[33mWARNING: Ignoring invalid distribution -umpy (/Users/ofer/miniconda3/lib/python3.10/site-packages)\u001b[0m\u001b[33m\n",
      "\u001b[0m\u001b[33mWARNING: Ignoring invalid distribution -umpy (/Users/ofer/miniconda3/lib/python3.10/site-packages)\u001b[0m\u001b[33m\n",
      "\u001b[0m\n",
      "\u001b[1m[\u001b[0m\u001b[34;49mnotice\u001b[0m\u001b[1;39;49m]\u001b[0m\u001b[39;49m A new release of pip is available: \u001b[0m\u001b[31;49m24.1.1\u001b[0m\u001b[39;49m -> \u001b[0m\u001b[32;49m24.2\u001b[0m\n",
      "\u001b[1m[\u001b[0m\u001b[34;49mnotice\u001b[0m\u001b[1;39;49m]\u001b[0m\u001b[39;49m To update, run: \u001b[0m\u001b[32;49mpip install --upgrade pip\u001b[0m\n",
      "Note: you may need to restart the kernel to use updated packages.\n"
     ]
    }
   ],
   "source": [
    "%pip install -e ~/dev/py-vectara-agentic --quiet"
   ]
  },
  {
   "cell_type": "markdown",
   "id": "b1a73ffd-5738-4dc6-b70c-54b6a2434ab7",
   "metadata": {},
   "source": [
    "Then, setup your Vectara customer ID, corpus ID and API key as environment variables:"
   ]
  },
  {
   "cell_type": "code",
   "execution_count": 2,
   "id": "6019e01a",
   "metadata": {},
   "outputs": [],
   "source": [
    "vectara_api_key = \"<YOUR_VECTARA_API_KEY>\"\n",
    "vectara_corpus_id = \"<YOUR_VECTARA_CORPUS_ID>\"\n",
    "vectara_customer_id = \"<YOUR_VECTARA_CUSTOMER_ID>\""
   ]
  },
  {
   "cell_type": "markdown",
   "id": "f7010b1d-d1bb-4f08-9309-a328bb4ea396",
   "metadata": {},
   "source": [
    "## The dataset\n",
    "\n",
    "Vectara is a RAG-as-a-service platform, and in most cases data may be uploaded to the index ahead of time (e.g. by using [Airbyte](https://docs.airbyte.com/integrations/destinations/vectara), [Datavolo](https://vectara.com/blog/building-genai-enterprise-apps-with-vectara-and-datavolo/) or directly via Vectara's [indexing API](https://docs.vectara.com/docs/api-reference/indexing-apis/indexing) or using tools like [vectara-ingest](https://github.com/vectara/vectara-ingest)).\n",
    "\n",
    "For this notebook we have uploaded [customer complaint data](https://huggingface.co/datasets/hpe-ai/customer-complaints) from HuggingFace into a Vectara corpus, including the following filtering attributes on the corpus to fit the dataset: `Company`, `State` and `Product`."
   ]
  },
  {
   "cell_type": "markdown",
   "id": "8ee4473a-094f-4d0a-a825-e1213db07240",
   "metadata": {},
   "source": [
    "## Creating our AI Assistant\n",
    "\n",
    "`vectara-agentic` provide a very flexible interface to create AI assistants and AI agents by defining one or more tools, custom instructions and personalizing the agent to a specific area.\n",
    "\n",
    "You can read more about this [here](https://vectara.github.io/vectara-agentic-docs/usage.html).\n",
    "\n",
    "In this notebook we demonstrate the simplest way to create an AI assistant, utilizing a single RAG Vectara tool, using the `from_corpus()` function:"
   ]
  },
  {
   "cell_type": "code",
   "execution_count": 3,
   "id": "6c950620-9618-4d2c-9597-58ec5adae393",
   "metadata": {},
   "outputs": [
    {
     "name": "stdout",
     "output_type": "stream",
     "text": [
      "Initializing vectara-agentic package...\n"
     ]
    }
   ],
   "source": [
    "from vectara_agentic.agent import Agent\n",
    "import pprint\n",
    "\n",
    "pp = pprint.PrettyPrinter(indent=4)\n",
    "\n",
    "assistant1 = Agent.from_corpus(\n",
    "    vectara_customer_id=vectara_customer_id,\n",
    "    vectara_corpus_id=vectara_corpus_id,\n",
    "    vectara_api_key=vectara_api_key,\n",
    "    data_description=\"customer complaints\",\n",
    "    assistant_specialty=\"customer service representative\",\n",
    "    vectara_summarizer=\"mockingbird-1.0-2024-07-16\"\n",
    ")"
   ]
  },
  {
   "cell_type": "markdown",
   "id": "73fe3192-e66f-49b3-a597-611b7f57062a",
   "metadata": {},
   "source": [
    "Note that we've used Vectara's Mockingbird LLM by specifying the `vectara_summarizer` argument.\n",
    "\n",
    "Let's ask the agent a simple question:"
   ]
  },
  {
   "cell_type": "code",
   "execution_count": 4,
   "id": "325b81df-9d66-4210-aad3-b6de2e99ed0e",
   "metadata": {},
   "outputs": [
    {
     "name": "stdout",
     "output_type": "stream",
     "text": [
      "('The top complaints about credit scores include:\\n'\n",
      " '\\n'\n",
      " '1. Inaccurate information on credit reports, such as accounts that have been '\n",
      " 'paid but still show as delinquent.\\n'\n",
      " '2. Incorrect reporting of account balances and past due amounts, which can '\n",
      " 'negatively impact credit scores.\\n'\n",
      " '3. Failure to remove or correct inaccurate information, even when the '\n",
      " 'consumer has provided proof of payment.\\n'\n",
      " '4. Unjust and unfair credit scoring practices, like penalizing individuals '\n",
      " 'who pay off their balances every month.\\n'\n",
      " '5. Fraudulent credit reporting, including illegal tampering with credit '\n",
      " 'scores.\\n'\n",
      " '6. Discriminatory credit scoring practices, such as prejudice against '\n",
      " 'certain individuals or groups.\\n'\n",
      " '\\n'\n",
      " 'These issues emphasize the need for accurate and fair credit reporting and '\n",
      " 'the importance of consumers monitoring their credit scores to correct any '\n",
      " 'errors.')\n"
     ]
    }
   ],
   "source": [
    "res = assistant1.chat(\"top complaints about credit scores exist\")\n",
    "pp.pprint(res)"
   ]
  },
  {
   "cell_type": "markdown",
   "id": "f5398325-33ff-4da5-af73-d232ffb6f681",
   "metadata": {},
   "source": [
    "Now let's create a differnet AI assistant, this time with adding two other arguments to the Vectara RAG Tool:\n",
    "1. A company name against which the complaint was filed.\n",
    "2. The state of the complaint\n",
    "We also use `verbose=True` to get more details about which steps the AI assistant is taking:"
   ]
  },
  {
   "cell_type": "code",
   "execution_count": 5,
   "id": "b1b1e530-c6e1-4c2d-8e35-a66ba7654fba",
   "metadata": {},
   "outputs": [],
   "source": [
    "assistant2 = Agent.from_corpus(\n",
    "    vectara_customer_id=vectara_customer_id,\n",
    "    vectara_corpus_id=vectara_corpus_id,\n",
    "    vectara_api_key=vectara_api_key,\n",
    "    data_description=\"customer complaints\",\n",
    "    assistant_specialty=\"customer service representative\",\n",
    "    vectara_summarizer=\"mockingbird-1.0-2024-07-16\",\n",
    "    verbose=True,\n",
    "    vectara_filter_fields=[\n",
    "        {'type': str, 'name': 'Company', 'description': 'the company related to this complaint'},\n",
    "        {'type': str, 'name': 'State', 'description': 'the state of the complaint, in shorthand format (e.g. TX for Texas)'}\n",
    "    ]\n",
    ")"
   ]
  },
  {
   "cell_type": "code",
   "execution_count": 6,
   "id": "d33b01f1-e1f3-4e87-ad6a-1c0f7952ae47",
   "metadata": {},
   "outputs": [
    {
     "name": "stdout",
     "output_type": "stream",
     "text": [
      "Added user message to memory: top complaints about credit scores related to Experian Information Solutions Inc.\n",
      "=== Calling Function ===\n",
      "Calling function: vectara_20 with args: {\"query\":\"top complaints about credit scores\",\"Company\":\"Experian Information Solutions Inc.\"}\n",
      "Got output: {'response': 'Based on the provided sources, the top complaints about credit scores are:\\n\\n1. Inaccurate credit scores: Different sites provide different credit scores, making it difficult to determine an accurate score [1].\\n2. Unverified and erroneous information: Credit bureaus and companies are not providing proof and documents to support the information on credit reports, leading to incorrect and unverified information [2, 3, 5, 7, 8, 10].\\n3. Failure to report payments: Mortgage companies are not reporting payments on time, which can lower credit scores and prevent refinancing [4].\\n4. Identity theft: Victims of identity theft are not being taken seriously by credit bureaus, and unauthorized items are being reported on their credit reports [5].\\n5. Unfair credit components: Some credit components, such as the number of credit cards owned, can negatively impact credit scores, even if the individual has an excellent credit rating [6].\\n6. Inconsistent information: Credit reports from different bureaus may not match, leading to confusion and inaccuracies [7].\\n7. Sudden and unexplained score drops: Credit scores can drop without any changes to the credit report, making it difficult to determine the cause [9].\\n\\nOverall, the top complaints about credit scores revolve around inaccuracies, unverified information, and unfair credit components, as well as the failure of credit bureaus and companies to provide proof and documents to support the information on credit reports.', 'citation_metadata': {'metadata for citation 1': {'lang': 'eng', 'offset': '2228', 'len': '77', 'State': 'GA', 'ZIP_code': '30312', 'Date_sent_to_company': '2023-05-01', 'Company': 'Experian Information Solutions Inc.', 'Issue': \"Problem with a credit reporting company's investigation into an existing problem\", 'Sub_issue': 'Their investigation did not fix an error on your report', 'Product': 'Credit reporting, credit repair services, or other personal consumer reports', 'Sub_product': 'Credit reporting', '_source': 'Unknown source', 'source': 'hf_dataset'}, 'metadata for citation 4': {'lang': 'eng', 'offset': '254', 'len': '68', 'State': 'VA', 'ZIP_code': '20176', 'Date_sent_to_company': '2020-04-04', 'Company': 'Experian Information Solutions Inc.', 'Issue': \"Problem with a credit reporting company's investigation into an existing problem\", 'Sub_issue': 'Their investigation did not fix an error on your report', 'Product': 'Credit reporting, credit repair services, or other personal consumer reports', 'Sub_product': 'Credit reporting', '_source': 'Unknown source', 'source': 'hf_dataset'}, 'metadata for citation 5': {'lang': 'eng', 'offset': '103', 'len': '124', 'State': 'WI', 'ZIP_code': '53218', 'Date_sent_to_company': '2023-07-18', 'Company': 'Experian Information Solutions Inc.', 'Issue': 'Incorrect information on your report', 'Sub_issue': 'Information belongs to someone else', 'Product': 'Credit reporting, credit repair services, or other personal consumer reports', 'Sub_product': 'Credit reporting', '_source': 'Unknown source', 'source': 'hf_dataset'}, 'metadata for citation 6': {'lang': 'eng', 'offset': '211', 'len': '112', 'State': 'VA', 'ZIP_code': '221XX', 'Date_sent_to_company': '2022-12-28', 'Company': 'Experian Information Solutions Inc.', 'Issue': 'Unable to get your credit report or credit score', 'Sub_issue': 'Other problem getting your report or credit score', 'Product': 'Credit reporting, credit repair services, or other personal consumer reports', 'Sub_product': 'Credit reporting', '_source': 'Unknown source', 'source': 'hf_dataset'}, 'metadata for citation 7': {'lang': 'eng', 'offset': '199', 'len': '120', 'State': 'CO', 'ZIP_code': '802XX', 'Date_sent_to_company': '2022-12-11', 'Company': 'Experian Information Solutions Inc.', 'Issue': \"Problem with a credit reporting company's investigation into an existing problem\", 'Sub_issue': 'Difficulty submitting a dispute or getting information about a dispute over the phone', 'Product': 'Credit reporting, credit repair services, or other personal consumer reports', 'Sub_product': 'Credit reporting', '_source': 'Unknown source', 'source': 'hf_dataset'}, 'metadata for citation 9': {'lang': 'eng', 'offset': '45', 'len': '106', 'State': 'OH', 'ZIP_code': 'XXXXX', 'Date_sent_to_company': '2023-09-01', 'Company': 'Experian Information Solutions Inc.', 'Issue': 'Unable to get your credit report or credit score', 'Sub_issue': 'Other problem getting your report or credit score', 'Product': 'Credit reporting or other personal consumer reports', 'Sub_product': 'Credit reporting', '_source': 'Unknown source', 'source': 'hf_dataset'}}, 'factual_consistency': 0.1905934}\n",
      "========================\n",
      "\n",
      "('The top complaints about credit scores related to Experian Information '\n",
      " 'Solutions Inc. include:\\n'\n",
      " '\\n'\n",
      " '1. **Inaccurate Credit Scores**: Different sites provide varying credit '\n",
      " 'scores, making it difficult to determine an accurate score.\\n'\n",
      " '2. **Unverified and Erroneous Information**: Credit bureaus and companies '\n",
      " 'often do not provide proof and documents to support the information on '\n",
      " 'credit reports, leading to incorrect and unverified information.\\n'\n",
      " '3. **Failure to Report Payments**: Mortgage companies sometimes fail to '\n",
      " 'report payments on time, which can lower credit scores and prevent '\n",
      " 'refinancing.\\n'\n",
      " '4. **Identity Theft**: Victims of identity theft are not always taken '\n",
      " 'seriously by credit bureaus, and unauthorized items may be reported on their '\n",
      " 'credit reports.\\n'\n",
      " '5. **Unfair Credit Components**: Certain credit components, such as the '\n",
      " 'number of credit cards owned, can negatively impact credit scores, even if '\n",
      " 'the individual has an excellent credit rating.\\n'\n",
      " '6. **Inconsistent Information**: Credit reports from different bureaus may '\n",
      " 'not match, leading to confusion and inaccuracies.\\n'\n",
      " '7. **Sudden and Unexplained Score Drops**: Credit scores can drop without '\n",
      " 'any changes to the credit report, making it difficult to determine the '\n",
      " 'cause.\\n'\n",
      " '\\n'\n",
      " 'These complaints generally revolve around inaccuracies, unverified '\n",
      " 'information, and unfair credit components, as well as the failure of credit '\n",
      " 'bureaus and companies to provide proof and documents to support the '\n",
      " 'information on credit reports.')\n"
     ]
    }
   ],
   "source": [
    "res = assistant2.chat(\"top complaints about credit scores related to Experian Information Solutions Inc.\")\n",
    "pp.pprint(res)"
   ]
  },
  {
   "cell_type": "markdown",
   "id": "b8109ba0-7da3-49d5-890f-e034f7d51dfd",
   "metadata": {},
   "source": [
    "Notice how the AI assistant extracts the company name from the user query, and uses that as an argument to the RAG tool.\n",
    "\n",
    "`Calling function: vectara_20 with args: {\"query\":\"top complaints about credit scores\",\"Company\":\"Experian Information Solutions Inc.\"}`\n",
    "\n",
    "Similarly let's try with state:"
   ]
  },
  {
   "cell_type": "code",
   "execution_count": 7,
   "id": "cf86cb6f-ac6f-4e23-a872-2f88ab8e951a",
   "metadata": {},
   "outputs": [
    {
     "name": "stdout",
     "output_type": "stream",
     "text": [
      "Added user message to memory: top complaints about credit scores exist from California\n",
      "=== Calling Function ===\n",
      "Calling function: vectara_20 with args: {\"query\":\"top complaints about credit scores\",\"State\":\"CA\"}\n",
      "Got output: {'response': 'Based on the provided sources, the top complaints about credit scores are:\\n\\n1. **Illegal tampering with credit scores**: Several consumers have reported that their credit scores dropped significantly without any justifiable reason, suggesting illegal tampering with their credit scores. [2, 5]\\n2. **Inaccurate reporting of accounts**: Many consumers have disputed negative information on their credit reports, citing inaccurate reporting of accounts, including incorrect dates, amounts, and payment histories. [3, 9]\\n3. **Fraudulent activity**: Some consumers have reported fraudulent activity, such as duplicate credit cards, which has led to unauthorized charges and a negative impact on their credit scores. [1, 4, 7]\\n4. **Mishandling of accounts and payment history**: Several consumers have complained about creditors mishandling their accounts and payment histories, resulting in inaccurate credit reports and a negative impact on their credit scores. [6, 8]\\n5. **Unavailability of credit scores**: Some consumers have reported that they do not have a credit score or credit file, despite being eligible for one, which has hindered their ability to obtain credit. [10]\\n\\nThese complaints highlight the importance of accurate credit reporting and the need for consumers to be vigilant about their credit scores.', 'citation_metadata': {'metadata for citation 10': {'lang': 'eng', 'offset': '95', 'len': '60', 'State': 'CA', 'ZIP_code': '92105', 'Date_sent_to_company': '2023-01-18', 'Company': 'EQUIFAX, INC.', 'Issue': 'Unable to get your credit report or credit score', 'Sub_issue': 'Other problem getting your report or credit score', 'Product': 'Credit reporting, credit repair services, or other personal consumer reports', 'Sub_product': 'Credit reporting', '_source': 'Unknown source', 'source': 'hf_dataset'}}, 'factual_consistency': 0.12517683}\n",
      "========================\n",
      "\n",
      "('The top complaints about credit scores related to Experian Information '\n",
      " 'Solutions Inc. include:\\n'\n",
      " '\\n'\n",
      " '1. **Inaccurate Credit Scores**: Different sites provide varying credit '\n",
      " 'scores, making it difficult to determine an accurate score.\\n'\n",
      " '2. **Unverified and Erroneous Information**: Credit bureaus and companies '\n",
      " 'often do not provide proof and documents to support the information on '\n",
      " 'credit reports, leading to incorrect and unverified information.\\n'\n",
      " '3. **Failure to Report Payments**: Mortgage companies sometimes fail to '\n",
      " 'report payments on time, which can lower credit scores and prevent '\n",
      " 'refinancing.\\n'\n",
      " '4. **Identity Theft**: Victims of identity theft are not always taken '\n",
      " 'seriously by credit bureaus, and unauthorized items may be reported on their '\n",
      " 'credit reports.\\n'\n",
      " '5. **Unfair Credit Components**: Certain credit components, such as the '\n",
      " 'number of credit cards owned, can negatively impact credit scores, even if '\n",
      " 'the individual has an excellent credit rating.\\n'\n",
      " '6. **Inconsistent Information**: Credit reports from different bureaus may '\n",
      " 'not match, leading to confusion and inaccuracies.\\n'\n",
      " '7. **Sudden and Unexplained Score Drops**: Credit scores can drop without '\n",
      " 'any changes to the credit report, making it difficult to determine the '\n",
      " 'cause.\\n'\n",
      " '\\n'\n",
      " 'These complaints generally revolve around inaccuracies, unverified '\n",
      " 'information, and unfair credit components, as well as the failure of credit '\n",
      " 'bureaus and companies to provide proof and documents to support the '\n",
      " 'information on credit reports.')\n"
     ]
    }
   ],
   "source": [
    "assistant2.chat(\"top complaints about credit scores exist from California\")\n",
    "pp.pprint(res)"
   ]
  },
  {
   "cell_type": "markdown",
   "id": "28f2e60f-b8dc-4ba6-b6ce-1fb83a94d000",
   "metadata": {},
   "source": [
    "Similarly here we have:\n",
    "\n",
    "`Calling function: vectara_20 with args: {\"query\":\"top complaints about credit scores\",\"State\":\"CA\"}`\n",
    "\n",
    "So the assistant is automatically identifying california as CA and calling the tool appropriately."
   ]
  },
  {
   "cell_type": "code",
   "execution_count": null,
   "id": "8bc1c925-4dfa-44d7-98d4-3bce67f6e72f",
   "metadata": {},
   "outputs": [],
   "source": []
  }
 ],
 "metadata": {
  "kernelspec": {
   "display_name": "Python 3 (ipykernel)",
   "language": "python",
   "name": "python3"
  },
  "language_info": {
   "codemirror_mode": {
    "name": "ipython",
    "version": 3
   },
   "file_extension": ".py",
   "mimetype": "text/x-python",
   "name": "python",
   "nbconvert_exporter": "python",
   "pygments_lexer": "ipython3",
   "version": "3.10.9"
  }
 },
 "nbformat": 4,
 "nbformat_minor": 5
}
