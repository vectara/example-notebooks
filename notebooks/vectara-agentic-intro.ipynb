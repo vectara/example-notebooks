{
 "cells": [
  {
   "cell_type": "markdown",
   "id": "adf7d63d",
   "metadata": {},
   "source": [
    "<a href=\"https://colab.research.google.com/github/vectara/example-notebooks/blob/main/notebooks/vectara-agentic-intro.ipynb\" target=\"_parent\"><img src=\"https://colab.research.google.com/assets/colab-badge.svg\" alt=\"Open In Colab\"/></a>"
   ]
  },
  {
   "cell_type": "markdown",
   "id": "397bea86",
   "metadata": {},
   "source": [
    "# Introducing Vectara-Agentic: building AI assistants with Vectara"
   ]
  },
  {
   "cell_type": "markdown",
   "id": "db0855d0",
   "metadata": {},
   "source": [
    "## About Vectara\n",
    "\n",
    "[Vectara](https://vectara.com/) is the trusted GenAI RAG-as-a-service platform, providing a simple API for enterprise developers to created RAG applications that are enterprise ready.\n",
    "\n",
    "See the [Vectara API documentation](https://docs.vectara.com/docs/) for more information on how to use the API.\n",
    "\n",
    "The main benefits for using Vectara for a RAG application are:\n",
    "* **Easy to use**: Vectara provides an end-to-end, fully functional, highly scalable and robust RAG pipeline, so as a user you don't have to code up these pieces and maintain them over time.\n",
    "* **Scalable and Secure**: building GenAI applications may seem easy at first, but the DIY approach can become overwhelming beyond simple examples. Vectara provides instant scalablility to millions of documents, while maintaing data security and privacy, as well as latency SLAs."
   ]
  },
  {
   "cell_type": "markdown",
   "id": "6b33079b",
   "metadata": {},
   "source": [
    "## About Vectara-Agentic\n",
    "\n",
    "Agentic RAG is a method that combines the strengths of RAG with autonomous agents.\n",
    "\n",
    "With vanilla RAG, Vectara receives a user query, retrieves the most relevant facts from your data, and uses an LLM to generate the most accurate response based on those facts.\n",
    "\n",
    "Agentic RAG leverages an LLM to “manage” the process of answering the user query via reasoning, planning, and a provided set of “tools”. Since a “manager” LLM-powered agent is in charge, it is smart enough to analyze the user query and properly call tools to obtain a comprehensive response to a complex user query.\n",
    "\n",
    "[Vectara-agentic](https://vectara.github.io/vectara-agentic-docs/index.html) is a Python package that allows you to build Agentic RAG applications quickly with Vectara. "
   ]
  },
  {
   "cell_type": "markdown",
   "id": "cfe2497c",
   "metadata": {},
   "source": [
    "## Getting Started\n",
    "\n",
    "To get started you will need to:\n",
    "1. [sign up](https://console.vectara.com/signup?utm_source=vectara&utm_medium=signup&utm_term=DevRel&utm_content=example-notebooks&utm_campaign=vectara-signup-DevRel-example-notebooks) (if you haven't already) and follow our [quickstart](https://docs.vectara.com/docs/quickstart) guide to create a corpus and an API key. \n",
    "\n",
    "2. Install vectara-agentic using: `pip install vectara-agentic`"
   ]
  },
  {
   "cell_type": "markdown",
   "id": "b1a73ffd-5738-4dc6-b70c-54b6a2434ab7",
   "metadata": {},
   "source": [
    "Then, setup your Vectara customer ID, corpus ID and API key as environment variables:"
   ]
  },
  {
   "cell_type": "code",
   "execution_count": 7,
   "id": "6019e01a",
   "metadata": {},
   "outputs": [],
   "source": [
    "vectara_api_key = \"<YOUR_VECTARA_API_KEY>\"\n",
    "vectara_corpus_id = \"<YOUR_VECTARA_CORPUS_ID>\"\n",
    "vectara_customer_id = \"<YOUR_VECTARA_CUSTOMER_ID>\""
   ]
  },
  {
   "cell_type": "markdown",
   "id": "f7010b1d-d1bb-4f08-9309-a328bb4ea396",
   "metadata": {},
   "source": [
    "## The dataset\n",
    "\n",
    "Vectara is a RAG-as-a-service platform, and in most cases data may be uploaded to the index ahead of time (e.g. by using [Airbyte](https://docs.airbyte.com/integrations/destinations/vectara), [Datavolo](https://vectara.com/blog/building-genai-enterprise-apps-with-vectara-and-datavolo/) or directly via Vectara's [indexing API](https://docs.vectara.com/docs/api-reference/indexing-apis/indexing) or using tools like [vectara-ingest](https://github.com/vectara/vectara-ingest)).\n",
    "\n",
    "For this notebook we have uploaded [customer complaint data](https://huggingface.co/datasets/hpe-ai/customer-complaints) from HuggingFace into a Vectara corpus, including the following filtering attributes on the corpus to fit the dataset: `Company`, `State` and `Product`."
   ]
  },
  {
   "cell_type": "markdown",
   "id": "8ee4473a-094f-4d0a-a825-e1213db07240",
   "metadata": {},
   "source": [
    "## Creating our AI Assistant\n",
    "\n",
    "`vectara-agentic` provide a very flexible interface to create AI assistants and AI agents by defining one or more tools, custom instructions and personalizing the agent to a specific area.\n",
    "\n",
    "You can read more about this [in the documentation](https://vectara.github.io/vectara-agentic-docs/usage.html).\n",
    "\n",
    "In this notebook we demonstrate the simplest way to create an AI assistant, utilizing a single RAG Vectara tool, using the `from_corpus()` function:"
   ]
  },
  {
   "cell_type": "code",
   "execution_count": 2,
   "id": "6c950620-9618-4d2c-9597-58ec5adae393",
   "metadata": {},
   "outputs": [
    {
     "name": "stdout",
     "output_type": "stream",
     "text": [
      "Initializing vectara-agentic version 0.1.9...\n",
      "No observer set.\n"
     ]
    }
   ],
   "source": [
    "from vectara_agentic.agent import Agent\n",
    "from IPython.display import display, HTML\n",
    "\n",
    "assistant1 = Agent.from_corpus(\n",
    "    vectara_customer_id=vectara_customer_id,\n",
    "    vectara_corpus_id=vectara_corpus_id,\n",
    "    vectara_api_key=vectara_api_key,\n",
    "    tool_name=\"ask_complaints\",\n",
    "    data_description=\"customer complaints\",\n",
    "    assistant_specialty=\"customer service representative\",\n",
    "    vectara_summarizer=\"mockingbird-1.0-2024-07-16\"\n",
    ")"
   ]
  },
  {
   "cell_type": "markdown",
   "id": "73fe3192-e66f-49b3-a597-611b7f57062a",
   "metadata": {},
   "source": [
    "Note that we've used Vectara's [Mockingbird](https://vectara.com/blog/mockingbird-a-rag-and-structured-output-focused-llm/) LLM by specifying the `vectara_summarizer` argument.\n",
    "\n",
    "Let's ask the agent a simple question:"
   ]
  },
  {
   "cell_type": "code",
   "execution_count": 3,
   "id": "325b81df-9d66-4210-aad3-b6de2e99ed0e",
   "metadata": {},
   "outputs": [
    {
     "data": {
      "text/html": [
       "<pre>The top complaints about credit scores include:\n",
       "\n",
       "1. **Inaccurate Reporting of Credit History**: Many individuals report that their credit scores are negatively affected due to inaccurate or unauthorized reporting by credit bureaus or lenders.\n",
       "\n",
       "2. **Unauthorized Credit Inquiries**: Some individuals experience negative impacts on their credit scores due to unauthorized credit inquiries by companies or lenders.\n",
       "\n",
       "3. **Lack of Transparency and Communication**: There are complaints about the lack of clear communication or transparency from lenders or credit bureaus regarding credit scores or credit history.\n",
       "\n",
       "4. **Discrimination Based on Personal Characteristics**: Some individuals feel their credit scores are negatively affected due to discrimination based on personal characteristics, such as name or race.\n",
       "\n",
       "5. **Lack of Resolution to Disputes**: Many individuals struggle to resolve disputes with credit bureaus or lenders, leading to continued negative impacts on their credit scores.\n",
       "\n",
       "These complaints highlight issues with inaccurate reporting, unauthorized inquiries, lack of transparency, discrimination, and unresolved disputes. \n",
       "\n",
       "References:\n",
       "- [2], [3], [4], [5], [6], [9], [10] for inaccurate reporting\n",
       "- [3], [4] for unauthorized inquiries\n",
       "- [1], [2], [4], [8] for lack of transparency\n",
       "- [7] for discrimination\n",
       "- [2], [3], [5], [6], [8], [10] for lack of resolution to disputes.</pre>"
      ],
      "text/plain": [
       "<IPython.core.display.HTML object>"
      ]
     },
     "metadata": {},
     "output_type": "display_data"
    }
   ],
   "source": [
    "res = assistant1.chat(\"what are the top complaints about credit scores?\")\n",
    "display(HTML(f\"<pre>{res}</pre>\"))"
   ]
  },
  {
   "cell_type": "markdown",
   "id": "f5398325-33ff-4da5-af73-d232ffb6f681",
   "metadata": {},
   "source": [
    "Now let's create a differnet AI assistant, this time with adding two other arguments to the Vectara RAG Tool:\n",
    "1. A company name against which the complaint was filed.\n",
    "2. In which state was the complaint filed\n",
    "\n",
    "We do this by specifying the vectara_filter_fields. This auto-magically adds these to the Vectara Tool that the agent will use, and the agent will be aware of these fields and use them as it needs to satisfy user queries.\n",
    "\n",
    "Note that here we also use `verbose=True` to get more details about which steps the AI assistant is taking."
   ]
  },
  {
   "cell_type": "code",
   "execution_count": 4,
   "id": "b1b1e530-c6e1-4c2d-8e35-a66ba7654fba",
   "metadata": {},
   "outputs": [
    {
     "name": "stdout",
     "output_type": "stream",
     "text": [
      "No observer set.\n"
     ]
    }
   ],
   "source": [
    "assistant2 = Agent.from_corpus(\n",
    "    vectara_customer_id=vectara_customer_id,\n",
    "    vectara_corpus_id=vectara_corpus_id,\n",
    "    vectara_api_key=vectara_api_key,\n",
    "    tool_name=\"ask_complaints\",\n",
    "    data_description=\"customer complaints\",\n",
    "    assistant_specialty=\"customer service representative\",\n",
    "    vectara_summarizer=\"mockingbird-1.0-2024-07-16\",\n",
    "    verbose=True,\n",
    "    vectara_filter_fields=[\n",
    "        {'type': 'str', 'name': 'Company', 'description': 'the company related to this complaint'},\n",
    "        {'type': 'str', 'name': 'State', 'description': 'the state of the complaint, in shorthand format (e.g. TX for Texas)'}\n",
    "    ]\n",
    ")"
   ]
  },
  {
   "cell_type": "code",
   "execution_count": 5,
   "id": "d33b01f1-e1f3-4e87-ad6a-1c0f7952ae47",
   "metadata": {},
   "outputs": [
    {
     "name": "stdout",
     "output_type": "stream",
     "text": [
      "Added user message to memory: top complaints about credit scores related to Experian Information Solutions Inc.\n",
      "=== Calling Function ===\n",
      "Calling function: ask_complaints with args: {\"query\":\"top complaints about credit scores\",\"Company\":\"Experian Information Solutions Inc.\"}\n",
      "Got output: \n",
      "                    Response: '''Based on the provided sources, the top complaints about credit scores are:\n",
      "\n",
      "1. Inaccurate credit scores: Different credit bureaus provide different credit scores, which can be inconsistent and unreliable [1].\n",
      "2. Failure to report on-time payments: Mortgage companies and creditors may fail to report on-time payments, which can lower credit scores and prevent refinancing [2].\n",
      "3. Erroneous and unverified information: Credit bureaus may report erroneous and unverified information, which can hurt credit scores [3].\n",
      "4. Lack of transparency and accountability: Credit bureaus may not provide clear and accurate responses to consumer complaints, and may not remove or update erroneous information [3].\n",
      "5. Security freeze interruptions: Credit bureaus may allow creditors to report fraudulent or inaccurate amounts on credit files, even when a security freeze is in place [5].\n",
      "6. Unfair credit scoring components: Credit scores may be influenced by components that are unfair or unrelated to creditworthiness, such as the number of credit cards owned [6].\n",
      "7. Inability to resolve debts: Consumers may be unable to resolve debts listed on their credit reports, and may not receive correspondence or information about the debts [8].\n",
      "8. Inconsistent credit scores: Credit bureaus may use different scoring models, such as Fico8, which can result in inconsistent credit scores [9].\n",
      "9. Lack of control over credit files: Consumers may not have control over their credit files, and may not be able to prevent creditors from reporting inaccurate or fraudulent information [5, 10].\n",
      "\n",
      "Overall, the top complaints about credit scores revolve around inaccuracy, lack of transparency, and unfairness in the credit reporting system.'''\n",
      "                    References:\n",
      "                    [1]: State='GA'; ZIP_code='30312'; Date_sent_to_company='2023-05-01'; Company='Experian Information Solutions Inc.'; Issue='Problem with a credit reporting company's investigation into an existing problem'; Sub_issue='Their investigation did not fix an error on your report'; Product='Credit reporting, credit repair services, or other personal consumer reports'; Sub_product='Credit reporting'; _source='Unknown source'; source='hf_dataset'.\n",
      "[2]: State='VA'; ZIP_code='20176'; Date_sent_to_company='2020-04-04'; Company='Experian Information Solutions Inc.'; Issue='Problem with a credit reporting company's investigation into an existing problem'; Sub_issue='Their investigation did not fix an error on your report'; Product='Credit reporting, credit repair services, or other personal consumer reports'; Sub_product='Credit reporting'; _source='Unknown source'; source='hf_dataset'.\n",
      "[3]: State='AZ'; ZIP_code='85301'; Date_sent_to_company='2023-02-02'; Company='Experian Information Solutions Inc.'; Issue='Incorrect information on your report'; Sub_issue='Information belongs to someone else'; Product='Credit reporting, credit repair services, or other personal consumer reports'; Sub_product='Credit reporting'; _source='Unknown source'; source='hf_dataset'.\n",
      "[5]: State='MS'; ZIP_code='39209'; Date_sent_to_company='2017-10-11'; Company='Experian Information Solutions Inc.'; Issue='Problem with a credit reporting company's investigation into an existing problem'; Sub_issue='Their investigation did not fix an error on your report'; Product='Credit reporting, credit repair services, or other personal consumer reports'; Sub_product='Credit reporting'; _source='Unknown source'; source='hf_dataset'.\n",
      "[6]: State='VA'; ZIP_code='221XX'; Date_sent_to_company='2022-12-28'; Company='Experian Information Solutions Inc.'; Issue='Unable to get your credit report or credit score'; Sub_issue='Other problem getting your report or credit score'; Product='Credit reporting, credit repair services, or other personal consumer reports'; Sub_product='Credit reporting'; _source='Unknown source'; source='hf_dataset'.\n",
      "[8]: State='MS'; ZIP_code='38671'; Date_sent_to_company='2020-01-12'; Company='Experian Information Solutions Inc.'; Issue='Attempts to collect debt not owed'; Sub_issue='Debt is not yours'; Product='Debt collection'; Sub_product='Medical debt'; _source='Unknown source'; source='hf_dataset'.\n",
      "[9]: State='AL'; ZIP_code='35803'; Date_sent_to_company='2022-04-30'; Company='Experian Information Solutions Inc.'; Issue='Problem with a credit reporting company's investigation into an existing problem'; Sub_issue='Difficulty submitting a dispute or getting information about a dispute over the phone'; Product='Credit reporting, credit repair services, or other personal consumer reports'; Sub_product='Credit reporting'; _source='Unknown source'; source='hf_dataset'.\n",
      "\n",
      "                \n",
      "========================\n",
      "\n",
      "Time taken: 22.211071968078613\n"
     ]
    },
    {
     "data": {
      "text/html": [
       "<pre>The top complaints about credit scores related to Experian Information Solutions Inc. include:\n",
       "\n",
       "1. **Inaccurate Credit Scores**: Different credit bureaus provide inconsistent and unreliable credit scores.\n",
       "2. **Failure to Report On-Time Payments**: Mortgage companies and creditors may not report on-time payments, affecting credit scores and refinancing opportunities.\n",
       "3. **Erroneous and Unverified Information**: Credit bureaus may report incorrect and unverified information, negatively impacting credit scores.\n",
       "4. **Lack of Transparency and Accountability**: Credit bureaus may not provide clear responses to consumer complaints or update erroneous information.\n",
       "5. **Security Freeze Interruptions**: Credit bureaus may allow creditors to report fraudulent or inaccurate amounts even with a security freeze in place.\n",
       "6. **Unfair Credit Scoring Components**: Credit scores may be influenced by factors unrelated to creditworthiness, such as the number of credit cards owned.\n",
       "7. **Inability to Resolve Debts**: Consumers may struggle to resolve debts listed on their credit reports and may not receive necessary correspondence.\n",
       "8. **Inconsistent Credit Scores**: Different scoring models, like Fico8, can result in inconsistent credit scores.\n",
       "9. **Lack of Control Over Credit Files**: Consumers may not have control over their credit files, preventing them from stopping inaccurate or fraudulent reporting.\n",
       "\n",
       "These complaints highlight issues of inaccuracy, lack of transparency, and perceived unfairness in the credit reporting system.</pre>"
      ],
      "text/plain": [
       "<IPython.core.display.HTML object>"
      ]
     },
     "metadata": {},
     "output_type": "display_data"
    }
   ],
   "source": [
    "res = assistant2.chat(\"top complaints about credit scores related to Experian Information Solutions Inc.\")\n",
    "display(HTML(f\"<pre>{res}</pre>\"))"
   ]
  },
  {
   "cell_type": "markdown",
   "id": "b8109ba0-7da3-49d5-890f-e034f7d51dfd",
   "metadata": {},
   "source": [
    "Notice how the AI assistant extracts the company name from the user query, and uses that as an argument to the RAG tool.\n",
    "\n",
    "`Calling function: vectara_20 with args: {\"query\":\"top complaints about credit scores\",\"Company\":\"Experian Information Solutions Inc.\"}`\n",
    "\n",
    "Similarly let's try with state:"
   ]
  },
  {
   "cell_type": "code",
   "execution_count": 6,
   "id": "cf86cb6f-ac6f-4e23-a872-2f88ab8e951a",
   "metadata": {},
   "outputs": [
    {
     "name": "stdout",
     "output_type": "stream",
     "text": [
      "Added user message to memory: top complaints about credit scores exist from California\n",
      "=== Calling Function ===\n",
      "Calling function: ask_complaints with args: {\"query\":\"top complaints about credit scores\",\"State\":\"CA\"}\n",
      "Got output: \n",
      "                    Response: '''Based on the provided sources, the top complaints about credit scores are:\n",
      "\n",
      "1. Inaccurate information on credit reports, including late payments, incorrect account information, and incorrect credit scores [2, 4, 6, 8].\n",
      "2. Illegal tampering with credit scores, resulting in significant drops in credit scores [3, 5].\n",
      "3. Lack of transparency and communication from credit bureaus and creditors, including failure to provide verifiable proof of accounts and failure to correct inaccurate information [2, 4, 8].\n",
      "4. Punitive credit evaluation practices that damage customers' creditworthiness, even with excellent payment histories [10].\n",
      "5. Difficulty in obtaining credit or obtaining credit at high interest rates due to inaccurate credit information [6].\n",
      "\n",
      "These complaints highlight the importance of accurate credit reporting and transparency in credit evaluation practices.'''\n",
      "                    References:\n",
      "                    [6]: State='CA'; ZIP_code='91941'; Date_sent_to_company='2023-05-22'; Company='MORTGAGE SOLUTIONS OF COLORADO'; Issue='Incorrect information on your report'; Sub_issue='Account information incorrect'; Product='Credit reporting, credit repair services, or other personal consumer reports'; Sub_product='Credit reporting'; _source='Unknown source'; source='hf_dataset'.\n",
      "[10]: State='CA'; ZIP_code='XXXXX'; Date_sent_to_company='2022-05-17'; Company='TRANSUNION INTERMEDIATE HOLDINGS, INC.'; Issue='Problem with a credit reporting company's investigation into an existing problem'; Sub_issue='Difficulty submitting a dispute or getting information about a dispute over the phone'; Product='Credit reporting, credit repair services, or other personal consumer reports'; Sub_product='Credit reporting'; _source='Unknown source'; source='hf_dataset'.\n",
      "\n",
      "                \n",
      "========================\n",
      "\n",
      "Time taken: 13.011406660079956\n"
     ]
    },
    {
     "data": {
      "text/html": [
       "<pre>The top complaints about credit scores related to Experian Information Solutions Inc. include:\n",
       "\n",
       "1. **Inaccurate Credit Scores**: Different credit bureaus provide inconsistent and unreliable credit scores.\n",
       "2. **Failure to Report On-Time Payments**: Mortgage companies and creditors may not report on-time payments, affecting credit scores and refinancing opportunities.\n",
       "3. **Erroneous and Unverified Information**: Credit bureaus may report incorrect and unverified information, negatively impacting credit scores.\n",
       "4. **Lack of Transparency and Accountability**: Credit bureaus may not provide clear responses to consumer complaints or update erroneous information.\n",
       "5. **Security Freeze Interruptions**: Credit bureaus may allow creditors to report fraudulent or inaccurate amounts even with a security freeze in place.\n",
       "6. **Unfair Credit Scoring Components**: Credit scores may be influenced by factors unrelated to creditworthiness, such as the number of credit cards owned.\n",
       "7. **Inability to Resolve Debts**: Consumers may struggle to resolve debts listed on their credit reports and may not receive necessary correspondence.\n",
       "8. **Inconsistent Credit Scores**: Different scoring models, like Fico8, can result in inconsistent credit scores.\n",
       "9. **Lack of Control Over Credit Files**: Consumers may not have control over their credit files, preventing them from stopping inaccurate or fraudulent reporting.\n",
       "\n",
       "These complaints highlight issues of inaccuracy, lack of transparency, and perceived unfairness in the credit reporting system.</pre>"
      ],
      "text/plain": [
       "<IPython.core.display.HTML object>"
      ]
     },
     "metadata": {},
     "output_type": "display_data"
    }
   ],
   "source": [
    "assistant2.chat(\"top complaints about credit scores exist from California\")\n",
    "display(HTML(f\"<pre>{res}</pre>\"))"
   ]
  },
  {
   "cell_type": "markdown",
   "id": "28f2e60f-b8dc-4ba6-b6ce-1fb83a94d000",
   "metadata": {},
   "source": [
    "Similarly here we have:\n",
    "\n",
    "`Calling function: vectara_20 with args: {\"query\":\"top complaints about credit scores\",\"State\":\"CA\"}`\n",
    "\n",
    "So the assistant is automatically identifying california as CA and calling the tool appropriately."
   ]
  },
  {
   "cell_type": "code",
   "execution_count": null,
   "id": "2a330651-245a-4fcf-9aa1-8dfb3065685b",
   "metadata": {},
   "outputs": [],
   "source": []
  }
 ],
 "metadata": {
  "kernelspec": {
   "display_name": "Python 3 (ipykernel)",
   "language": "python",
   "name": "python3"
  },
  "language_info": {
   "codemirror_mode": {
    "name": "ipython",
    "version": 3
   },
   "file_extension": ".py",
   "mimetype": "text/x-python",
   "name": "python",
   "nbconvert_exporter": "python",
   "pygments_lexer": "ipython3",
   "version": "3.11.8"
  }
 },
 "nbformat": 4,
 "nbformat_minor": 5
}
