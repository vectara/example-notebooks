{
 "cells": [
  {
   "cell_type": "markdown",
   "id": "516c8a3a-a2dd-434c-876a-09d595e839d6",
   "metadata": {},
   "source": [
    "<a href=\"https://colab.research.google.com/github/vectara/example-notebooks/blob/main/notebooks/custom-prompts-demo.ipynb\" target=\"_parent\"><img src=\"https://colab.research.google.com/assets/colab-badge.svg\" alt=\"Open In Colab\"/></a>"
   ]
  },
  {
   "cell_type": "markdown",
   "id": "1cbe98ff-8464-4ee5-8b42-9242ae5f9455",
   "metadata": {},
   "source": [
    "# Custom prompts with Vectara\n",
    "\n",
    "Vectara includes many powerful features for building RAG pipelines, and in this notebook we want to demonstrate one of them - using custom prompts, which allow for better control of the LLM responses. For example you can use custom prompts to change the style and tone of the response."
   ]
  },
  {
   "cell_type": "code",
   "execution_count": 1,
   "id": "ac9392cf-2ad2-4efc-8540-1a22f1182d63",
   "metadata": {},
   "outputs": [],
   "source": [
    "import requests\n",
    "import json\n",
    "import re\n",
    "import os\n",
    "from urllib.parse import quote\n",
    "from IPython.display import display, Markdown"
   ]
  },
  {
   "cell_type": "markdown",
   "id": "cdb97d6b-dfcf-4e2a-bda9-9f7ad9f6c54e",
   "metadata": {},
   "source": [
    "## Query helper functions\n",
    "\n",
    "Before we start, here is some Python code that is helpful to abstract some of the fine details of calling the Vectara API.\n",
    "\n",
    "The `VectaraQuery` class simplifies running a query against a Vectara corpus.\n",
    "Note that in addition to the expected `customer_id`, `corpus_id` and `api_key`, it has two additional arguments in the constructor: `prompt_name` and `prompt_text`, which are the name of the prompt we would use and the text of the prompt when we use custom prompts. "
   ]
  },
  {
   "cell_type": "code",
   "execution_count": 2,
   "id": "63fda689-6fa2-4543-aa45-fed5942cbab6",
   "metadata": {},
   "outputs": [],
   "source": [
    "class VectaraQuery():\n",
    "    def __init__(self, api_key: str, customer_id: str, corpus_id: str, prompt_name: str = None, prompt_text: str = None):\n",
    "        self.customer_id = customer_id\n",
    "        self.corpus_id = corpus_id\n",
    "        self.api_key = api_key\n",
    "        self.prompt_name = prompt_name if prompt_name else \"vectara-summary-ext-24-05-sml\"\n",
    "        self.prompt_text = prompt_text\n",
    "\n",
    "    def get_body(self, query_str: str):\n",
    "        corpora_key_list = [{\n",
    "                'customer_id': self.customer_id, 'corpus_id': self.corpus_id, 'lexical_interpolation_config': {'lambda': 0.005}\n",
    "            }\n",
    "        ]\n",
    "        body = {\n",
    "            'query': [\n",
    "                { \n",
    "                    'query': query_str,\n",
    "                    'start': 0,\n",
    "                    'numResults': 50,\n",
    "                    'corpusKey': corpora_key_list,\n",
    "                    'context_config': {\n",
    "                        'sentences_before': 2,\n",
    "                        'sentences_after': 2,\n",
    "                        'start_tag': \"%START_SNIPPET%\",\n",
    "                        'end_tag': \"%END_SNIPPET%\",\n",
    "                    },\n",
    "                    'rerankingConfig':\n",
    "                    {\n",
    "                        'rerankerId': 272725719,\n",
    "                    },\n",
    "                    'summary': [\n",
    "                        {\n",
    "                            'responseLang': 'eng',\n",
    "                            'maxSummarizedResults': 7,\n",
    "                            'summarizerPromptName': self.prompt_name,\n",
    "                        }\n",
    "                    ]\n",
    "                } \n",
    "            ]\n",
    "        }\n",
    "        if self.prompt_text:\n",
    "            body['query'][0]['summary'][0]['promptText'] = self.prompt_text\n",
    "        return body\n",
    "\n",
    "    def get_headers(self):\n",
    "        return {\n",
    "            \"Content-Type\": \"application/json\",\n",
    "            \"Accept\": \"application/json\",\n",
    "            \"customer-id\": self.customer_id,\n",
    "            \"x-api-key\": self.api_key,\n",
    "            \"grpc-timeout\": \"60S\"\n",
    "        }\n",
    "\n",
    "    def submit_query(self, query_str: str):\n",
    "\n",
    "        endpoint = f\"https://api.vectara.io/v1/query\"\n",
    "        body = self.get_body(query_str)\n",
    "\n",
    "        response = requests.post(endpoint, data=json.dumps(body), verify=True, headers=self.get_headers())    \n",
    "        if response.status_code != 200:\n",
    "            print(f\"Query failed with code {response.status_code}, reason {response.reason}, text {response.text}\")\n",
    "            return \"Sorry, something went wrong in my brain. Please try again later.\"\n",
    "\n",
    "        res = response.json()\n",
    "        \n",
    "        top_k = 10\n",
    "        summary = res['responseSet'][0]['summary'][0]['text']\n",
    "\n",
    "        return summary"
   ]
  },
  {
   "cell_type": "markdown",
   "id": "6bbe4d05-fb3a-44ea-b4da-cf99f9c7657a",
   "metadata": {},
   "source": [
    "In this demo I've used the same corpus that includes all the text from Richard Feynman's lectures, as show for example in this [demo application](https://askfeynman.demo.vectara.com/). Let's read from our environment the `customer_id`, `corpus_id` and `api_key` we want to use for accessing Vectara. "
   ]
  },
  {
   "cell_type": "code",
   "execution_count": 3,
   "id": "c0601d72-e70d-419b-b1eb-eea501807b29",
   "metadata": {},
   "outputs": [],
   "source": [
    "api_key = os.environ['VECTARA_API_KEY']\n",
    "customer_id = os.environ['VECTARA_CUSTOMER_ID']\n",
    "corpus_id = os.environ['VECTARA_CORPUS_ID']"
   ]
  },
  {
   "cell_type": "markdown",
   "id": "2df8100c-c3d2-41ea-8d1b-273f3890bab0",
   "metadata": {},
   "source": [
    "## Using custom prompts"
   ]
  },
  {
   "cell_type": "markdown",
   "id": "70cd33ce-023e-43f3-80e8-96d864f9a2f7",
   "metadata": {},
   "source": [
    "Now let's go to custom prompts, a powerful feature of Vectara, with which you can control and customize your prompts to fit your use-case. This can be helpful in generating responses that are in a certain style or form, as well as change the behavior of the summarizer to perform other actions.\n",
    "\n",
    "Let's look at a few examples. First we are going to ask a simple physics question: \"what is an atom?\""
   ]
  },
  {
   "cell_type": "code",
   "execution_count": 4,
   "id": "aefc8b20-2893-4a06-aba6-ddcf2691e65b",
   "metadata": {},
   "outputs": [
    {
     "data": {
      "text/markdown": [
       "An atom is a fundamental unit of matter, consisting of a nucleus and electrons. The nucleus, which contains most of the atom's mass, is extremely small compared to the entire atom, with a diameter of about 10^-13 cm, while the atom itself is about 10^-8 cm in diameter [3]. Atoms are in perpetual motion, attracting each other when slightly apart and repelling when squeezed together [5]. They can exist in different energy states and can become excited, but they eventually return to a lower energy state by interacting with the electromagnetic field [2]. The behavior of atoms is governed by quantum mechanics, which differs significantly from the classical Newtonian physics that applies to larger objects [4]."
      ],
      "text/plain": [
       "<IPython.core.display.Markdown object>"
      ]
     },
     "metadata": {},
     "output_type": "display_data"
    }
   ],
   "source": [
    "vq = VectaraQuery(api_key, customer_id, corpus_id, prompt_name='vectara-summary-ext-24-05-med-omni')\n",
    "response = vq.submit_query(\"what is an atom?\")\n",
    "display(Markdown(response))"
   ]
  },
  {
   "cell_type": "markdown",
   "id": "3642c91f-3f2e-4381-a15b-b8ea3df6ba12",
   "metadata": {},
   "source": [
    "And now let's try a few custom prompts. We'll start with a simple one:"
   ]
  },
  {
   "cell_type": "code",
   "execution_count": 5,
   "id": "e4e96b9d-9322-46ba-9fbb-d24a680114fc",
   "metadata": {},
   "outputs": [
    {
     "data": {
      "text/markdown": [
       "An atom is a fundamental unit of matter, consisting of a nucleus and electrons. The nucleus, which contains most of the atom's mass, is extremely small compared to the overall size of the atom. Atoms are about 10^-8 cm in diameter, while the nucleus is about 10^-13 cm. Electrons orbit the nucleus, prevented from collapsing into it by the uncertainty principle, which dictates that knowing an electron's precise position would require it to have a large, uncertain momentum.\n",
       "\n",
       "Atoms are in perpetual motion, attracting each other when slightly apart and repelling when squeezed together. This atomic behavior forms the basis of the atomic hypothesis, which posits that all matter is composed of these tiny particles. Atoms can also exist in excited states, where they have higher energy levels, but they tend to return to lower energy states by interacting with electromagnetic fields.\n",
       "\n",
       "In certain conditions, atoms can lose electrons and become ions. The number of ions, neutral atoms, and electrons in a given volume depends on factors like density and temperature. Understanding atoms and their interactions is crucial for explaining the fundamental laws of physics, including quantum mechanics, which governs atomic behavior and differs significantly from Newton's laws that apply to larger-scale objects."
      ],
      "text/plain": [
       "<IPython.core.display.Markdown object>"
      ]
     },
     "metadata": {},
     "output_type": "display_data"
    }
   ],
   "source": [
    "prompt1 = '''\n",
    "[\n",
    "  {\"role\": \"system\", \"content\": \"You are a helpful search assistant. \n",
    "                                 Make sure you base your response only on the search results provided.\"},\n",
    "  #foreach ($qResult in $vectaraQueryResults)\n",
    "     {\"role\": \"user\", \"content\": \"Give me the $vectaraIdxWord[$foreach.index] search result.\"},\n",
    "     {\"role\": \"assistant\", \"content\": \"${qResult.getText()}\" },\n",
    "  #end\n",
    "  {\"role\": \"user\", \"content\": \"Generate a summary for the query '${vectaraQuery}' based on the above results.\"}\n",
    "]\n",
    "'''\n",
    "\n",
    "vq = VectaraQuery(api_key, customer_id, corpus_id, \n",
    "                  prompt_name = 'vectara-summary-ext-24-05-med-omni', \n",
    "                  prompt_text = prompt1)\n",
    "response = vq.submit_query(\"what is an atom?\")\n",
    "display(Markdown(response))"
   ]
  },
  {
   "cell_type": "markdown",
   "id": "4dca8efc-9ab6-416c-b3aa-f08af087719f",
   "metadata": {},
   "source": [
    "Now let's play with the prompt to make this more interesting: can we ask our RAG pipeline to respond in bullet points?"
   ]
  },
  {
   "cell_type": "code",
   "execution_count": 6,
   "id": "b2c09c8b-b8d2-4d6c-81bf-ec8577143ff7",
   "metadata": {},
   "outputs": [
    {
     "data": {
      "text/markdown": [
       "- An atom is a fundamental unit of matter, with a typical diameter of about (10^{-8}) cm.\n",
       "- Atoms consist of a nucleus, which is much smaller (about (10^{-13}) cm in diameter) and contains most of the atom's mass.\n",
       "- Electrons orbit the nucleus, and their behavior is governed by quantum mechanics, which differs significantly from classical Newtonian physics.\n",
       "- Atoms are in constant motion, attracting each other when slightly apart and repelling when too close.\n",
       "- The atomic hypothesis suggests that all matter is composed of these small particles, which are in perpetual motion.\n",
       "- Atoms can become ions if they lose or gain electrons, a process influenced by external energy and the surrounding environment.\n",
       "- Understanding atoms involves considering their interactions, energy states, and the principles of quantum mechanics."
      ],
      "text/plain": [
       "<IPython.core.display.Markdown object>"
      ]
     },
     "metadata": {},
     "output_type": "display_data"
    }
   ],
   "source": [
    "prompt2 = '''\n",
    "[\n",
    "  {\"role\": \"system\", \"content\": \"You are a helpful search assistant, with expertise in physics. \n",
    "                                 You respond in bullet points.\"},\n",
    "  #foreach ($qResult in $vectaraQueryResults)\n",
    "     {\"role\": \"user\", \"content\": \"Give me the $vectaraIdxWord[$foreach.index] search result.\"},\n",
    "     {\"role\": \"assistant\", \"content\": \"${qResult.getText()}\" },\n",
    "  #end\n",
    "  {\"role\": \"user\", \"content\": \"Generate a summary for the query '${vectaraQuery}' based on the above results.\"}\n",
    "]\n",
    "'''\n",
    "\n",
    "vq = VectaraQuery(api_key, customer_id, corpus_id, \n",
    "                  prompt_name = 'vectara-summary-ext-24-05-med-omni', \n",
    "                  prompt_text = prompt2)\n",
    "response = vq.submit_query(\"what is an atom?\")\n",
    "display(Markdown(response))"
   ]
  },
  {
   "cell_type": "markdown",
   "id": "b1fdac21-acda-432d-bdd7-fdce57c82561",
   "metadata": {},
   "source": [
    "Last one - Explain atoms to me like I'm a 5-year-old:"
   ]
  },
  {
   "cell_type": "code",
   "execution_count": 7,
   "id": "a5b57fe3-c8bc-4032-817c-3518d2c6d09b",
   "metadata": {},
   "outputs": [
    {
     "data": {
      "text/markdown": [
       "An atom is a tiny particle that makes up everything around us. Imagine if you had a super-duper magnifying glass and looked at anything, like a toy or a drop of water, you'd see these tiny atoms. They're so small that if an atom were the size of a big room, its center, called the nucleus, would be just a tiny speck! Atoms are always moving, and they like to stick together to make all the things we see. They have a center with most of their weight, and little parts called electrons that zoom around the center. Even though they're super tiny, understanding atoms helps us learn a lot about how the world works!"
      ],
      "text/plain": [
       "<IPython.core.display.Markdown object>"
      ]
     },
     "metadata": {},
     "output_type": "display_data"
    }
   ],
   "source": [
    "prompt3 = '''\n",
    "[\n",
    "  {\"role\": \"system\", \"content\": \"You are a helpful search assistant, with expertise in physics. \n",
    "                                 Respond in a way that a five year old can understand.\"},\n",
    "  #foreach ($qResult in $vectaraQueryResults)\n",
    "     {\"role\": \"user\", \"content\": \"Give me the $vectaraIdxWord[$foreach.index] search result.\"},\n",
    "     {\"role\": \"assistant\", \"content\": \"${qResult.getText()}\" },\n",
    "  #end\n",
    "  {\"role\": \"user\", \"content\": \"Generate a summary for the query|'${vectaraQuery}' based on the above results.\"}\n",
    "]\n",
    "'''\n",
    "\n",
    "vq = VectaraQuery(api_key, customer_id, corpus_id, \n",
    "                  prompt_name = 'vectara-summary-ext-24-05-med-omni',\n",
    "                  prompt_text = prompt3)\n",
    "response = vq.submit_query(\"what is an atom?\")\n",
    "display(Markdown(response))"
   ]
  },
  {
   "cell_type": "markdown",
   "id": "b8e2b23d-f473-4e73-aad2-a0334068e6f5",
   "metadata": {},
   "source": [
    "There's a lot more you can do with custom prompts and we at Vectara are curious to hear what are you building with these powerful capabilities, so please don't hesistate to share your success with us in the [discussion forums](https://discuss.vectara.com/) or our [Discord community server](https://discord.com/invite/GFb8gMz6UH)"
   ]
  },
  {
   "cell_type": "code",
   "execution_count": null,
   "id": "a9a46dd6-8e66-4267-8754-dc3d3493c197",
   "metadata": {},
   "outputs": [],
   "source": []
  }
 ],
 "metadata": {
  "kernelspec": {
   "display_name": "Python 3 (ipykernel)",
   "language": "python",
   "name": "python3"
  },
  "language_info": {
   "codemirror_mode": {
    "name": "ipython",
    "version": 3
   },
   "file_extension": ".py",
   "mimetype": "text/x-python",
   "name": "python",
   "nbconvert_exporter": "python",
   "pygments_lexer": "ipython3",
   "version": "3.10.9"
  }
 },
 "nbformat": 4,
 "nbformat_minor": 5
}
