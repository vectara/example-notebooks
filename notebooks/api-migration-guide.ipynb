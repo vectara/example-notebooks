{
 "cells": [
  {
   "cell_type": "markdown",
   "id": "862e00bb-1200-4914-8150-f0ed3efc9655",
   "metadata": {},
   "source": [
    "# Vectara Guide: APIv2\n",
    "\n",
    "In early June 2024, we [announced](https://vectara.com/blog/introducing-vectaras-v2-api/) a new API v2 for Vectara.\n",
    "\n",
    "Vectara’s API has been rich and capable in [APIv1](https://docs.vectara.com/docs/1.0/), but it was somewhat complex to work with. We have heard this from many developers, and have worked hard over the last few months go improve that, resulting in the launch of [APIv2](https://docs.vectara.com/docs) - a new and improved API.\n",
    "\n",
    "This new version provides APIs that are much more RESTful, and follow the [resource-oriented design](https://cloud.google.com/apis/design/resources) methodology. \n",
    "\n",
    "In this notebook we explore the new APIs, and demonstrate the differences between APIv1 and APIv2 for some of the key operations."
   ]
  },
  {
   "cell_type": "markdown",
   "id": "b95a72af-efd1-4359-845e-372d5c0ad626",
   "metadata": {},
   "source": [
    "## Understanding Vectara API V2\n",
    "\n",
    "Being more resource-oriented, API v2 follows the object-oriented URL structure. This design philosophy makes using APIs much easier by integrating a few key ideas:\n",
    "1. **Entities as Resources**: Entities like documents, corpora, or api keys are defined as resources\n",
    "2. **Nouns not Verbs**: Resource names are nouns (e.g. \"corpus\") and not verbs (e.g. \"getKeys\")\n",
    "3. **Correct use of HTTP**: Using the standard HTTP verbs in a way that is consistent with their intent\n",
    "- *GET*: Retrieve a resource or a collection of resources\n",
    "- *POST*: Create a new resource\n",
    "- *PUT*: Update an existing resource\n",
    "- *DELETE*: Remove a resource\n",
    "- *PATCH*: Partially update a resource\n",
    "4. **Hierarchy**: Reflect the hierarchical nature of resources (e.g., /corpora/{corpusKey}/documents/)\n",
    "5. **Error**: Last but not least, make good of HTTP error codes in a proper manner\n",
    "\n",
    "Aside from this big shift into resource-oriented design, here are a few other key changes:\n",
    "1. **Updated defaults**: We've take the opportunity to update some of the default values in the API where it makes sense\n",
    "2. **URL encoding**: In APIv2 many requests include more information in the URL, and thus you might need to percent-encode those to ensure they are valid in the URL"
   ]
  },
  {
   "cell_type": "markdown",
   "id": "cc67a03f-58e3-47b6-bb74-d288fec40201",
   "metadata": {},
   "source": [
    "## Getting Started"
   ]
  },
  {
   "cell_type": "markdown",
   "id": "f2910faa-a5fb-4214-b31d-7932fc3ff3e8",
   "metadata": {},
   "source": [
    "To run this notebook, you will need your own API credentials, which you can obtain by [setting up](https://console.vectara.com/signup?utm_source=vectara&utm_medium=signup&utm_term=DevRel&utm_content=example-notebooks&utm_campaign=vectara-signup-DevRel-example-notebooks) a Vectara account and create a corpus. You can follow our [Quick Start](https://docs.vectara.com/docs/quickstart) guide for help with this process. Once you do this, you can specify all of the required environment variables for this notebook using one of the following methods:\n",
    "1. You can define all of the variables in the cell below (e.g. please replace `\"YOUR_CUSTOMER_ID\"` with your actual customer ID)\n",
    "2. You can define all of the variables in your terminal and then run this notebook (e.g. if the corpus you want to work with has ID 3, you would run `export corpus_id='3'`). Don't forget to comment out the below cell before you run the notebook."
   ]
  },
  {
   "cell_type": "code",
   "execution_count": 1,
   "id": "6cd01e0b-6027-48c0-b443-2fe2180dec53",
   "metadata": {},
   "outputs": [],
   "source": [
    "#import os\n",
    "#os.environ['customer_id'] = \"YOUR_CUSTOMER_ID\"\n",
    "#os.environ['personal_api_key'] = \"YOUR_PERSONAL_API_KEY\"\n",
    "#os.environ['corpus_id'] = \"YOUR_CORPUS_ID\"\n",
    "#os.environ['corpus_key'] = \"YOUR_CORPUS_KEY\"\n",
    "#os.environ['corpus_api_key'] = \"YOUR_CORPUS_API_KEY\"   # You will want this key to have both QueryService and IndexService"
   ]
  },
  {
   "cell_type": "code",
   "execution_count": 2,
   "id": "49cd5f42-15d2-45b2-8e3a-e83f92cf08d8",
   "metadata": {
    "jupyter": {
     "source_hidden": true
    }
   },
   "outputs": [],
   "source": [
    "# Set all variables to corresponding os-environment variables\n",
    "import os\n",
    "\n",
    "customer_id = os.getenv('customer_id')\n",
    "personal_api_key = os.getenv('personal_api_key')\n",
    "corpus_id = os.getenv('corpus_id')\n",
    "corpus_key = os.getenv('corpus_key')\n",
    "corpus_api_key = os.getenv('corpus_api_key')"
   ]
  },
  {
   "cell_type": "markdown",
   "id": "8f10ff5f-6561-4073-a85b-47cdabd333c4",
   "metadata": {},
   "source": [
    "Here's a brief explanation of all the required parameters:\n",
    "1. Your customer ID is the unique ID number associated with your Vectara account.\n",
    "2. Your personal API key is used for general operations on your account. It has permissions to everything that your role can access.\n",
    "3. Your corpus ID is a unique identifier for your corpus, expressed as an integer (This is generated for you automatically when you create a new corpus).\n",
    "4. Your corpus key is also a unique identifier for the same corpus, but you can choose to call this whatever you would like. You'll notice throughout this notebook that APIv1 uses the corpus ID to identify your corpus and APIv2 uses the corpus key, giving you more freedom to choose how to refer to your corpus.\n",
    "5. Your corpus API key is the API key that can only perform operations related to this specific corpus. It can help you add documents to the corpus (if it has IndexService) and query documents (if it has QueryService). For this notebook, you will want an API key that has both IndexService and QueryService."
   ]
  },
  {
   "cell_type": "markdown",
   "id": "3209b996-a946-48cb-bc04-ab56ef56a79b",
   "metadata": {},
   "source": [
    "# Adding Data to Vectara"
   ]
  },
  {
   "cell_type": "markdown",
   "id": "c350d855-51d8-423d-9f98-40f059028966",
   "metadata": {},
   "source": [
    "## File Upload\n",
    "\n",
    "Let's start by uploading a document to our corpus, comparing the methods for APIv1 and APIv2. \n",
    "\n",
    "We are going to upload the Vectara's [Pet Policy](../data/pet_policy.pdf) to our corpus, which is available in this repository's data folder."
   ]
  },
  {
   "cell_type": "code",
   "execution_count": 3,
   "id": "524c1f6d-bf43-4efa-91a0-0745c3d0a91e",
   "metadata": {},
   "outputs": [
    {
     "name": "stdout",
     "output_type": "stream",
     "text": [
      "{'response': {'status': {}, 'quotaConsumed': {'numChars': '9215', 'numMetadataChars': '5803'}}}\n"
     ]
    }
   ],
   "source": [
    "# Using APIv1\n",
    "\n",
    "import requests\n",
    "\n",
    "url = f\"https://api.vectara.io/v1/upload?c={customer_id}&o={corpus_id}\"\n",
    "\n",
    "payload={}\n",
    "files=[\n",
    "  ('file',('pet_policy',open('../data/pet_policy.pdf','rb'),'application/octet-stream'))\n",
    "]\n",
    "headers = {\n",
    "  'Accept': 'application/json',\n",
    "  'x-api-key': corpus_api_key\n",
    "}\n",
    "\n",
    "response = requests.request(\"POST\", url, headers=headers, data=payload, files=files)\n",
    "res = response.json()\n",
    "print(res)"
   ]
  },
  {
   "cell_type": "code",
   "execution_count": 4,
   "id": "9a9a8224-7b7a-402b-97a9-2bbf953fe908",
   "metadata": {
    "jupyter": {
     "source_hidden": true
    }
   },
   "outputs": [],
   "source": [
    "# Delete the document so that we can properly see the output message when using APIv2\n",
    "\n",
    "import requests\n",
    "\n",
    "url = f\"https://api.vectara.io/v2/corpora/{corpus_key}/documents/pet_policy\"\n",
    "\n",
    "payload={}\n",
    "headers = {\n",
    "  'x-api-key': personal_api_key\n",
    "}\n",
    "\n",
    "response = requests.request(\"DELETE\", url, headers=headers, data=payload)"
   ]
  },
  {
   "cell_type": "code",
   "execution_count": 5,
   "id": "70cfed29-8e13-4586-9dbb-94eed454707a",
   "metadata": {},
   "outputs": [
    {
     "name": "stdout",
     "output_type": "stream",
     "text": [
      "{'id': 'pet_policy', 'metadata': {'Producer': 'Skia/PDF m118 Google Docs Renderer', 'Title': 'Employee Handbook - Company Pet Policy'}, 'storage_usage': {'bytes_used': 9215, 'metadata_bytes_used': 5803}}\n",
      "201\n"
     ]
    }
   ],
   "source": [
    "# Using APIv2\n",
    "\n",
    "import requests\n",
    "\n",
    "url = f\"https://api.vectara.io/v2/corpora/{corpus_key}/upload_file\"\n",
    "\n",
    "payload={}\n",
    "files=[\n",
    "  ('file',('pet_policy',open('../data/pet_policy.pdf','rb'),'application/octet-stream'))\n",
    "]\n",
    "headers = {\n",
    "  'Accept': 'application/json',\n",
    "  'x-api-key': corpus_api_key\n",
    "}\n",
    "\n",
    "response = requests.request(\"POST\", url, headers=headers, data=payload, files=files)\n",
    "res = response.json()\n",
    "print(res)\n",
    "print(response.status_code)"
   ]
  },
  {
   "cell_type": "markdown",
   "id": "ef8ad6ac-202f-4754-86de-b49dc7ffef97",
   "metadata": {},
   "source": [
    "Note that in both APIv1 and APIv2, the Python code example from the [API playground](https://docs.vectara.com/docs/rest-api/upload-file) will include `/path/to/file` and you need to replace it with the actual path to your file, as shown for Python in the example above:\n",
    "``` Python\n",
    "files=[\n",
    "  ('file',('pet_policy',open('../data/pet_policy.pdf','rb'),'application/octet-stream'))\n",
    "]\n",
    "```"
   ]
  },
  {
   "cell_type": "markdown",
   "id": "f6f534af-d1f5-4958-b59a-5083053068d3",
   "metadata": {},
   "source": [
    "## Indexing\n",
    "\n",
    "Now let's see how to add a text document to a corpus in APIv1 and APIv2. \n",
    "\n",
    "Unlike File Upload, with indexing we explicitly define the sections and text of the document for indexing. Indexing also allows you to specify section metadata that can be used for filtering search information. \n",
    "\n",
    "We will add a document that contains some of William Shakespeare's best work, following the same information provided in the example found [here](https://docs.vectara.com/docs/api-reference/indexing-apis/file-upload/format-for-upload)."
   ]
  },
  {
   "cell_type": "code",
   "execution_count": 6,
   "id": "de8f88e4-fe73-487e-88fe-5fae93761d0e",
   "metadata": {},
   "outputs": [
    {
     "name": "stdout",
     "output_type": "stream",
     "text": [
      "{'status': {'code': 'OK', 'statusDetail': '', 'cause': None}, 'quotaConsumed': {'numChars': '468', 'numMetadataChars': '1005'}}\n"
     ]
    }
   ],
   "source": [
    "# Using APIv1\n",
    "\n",
    "import requests\n",
    "import json\n",
    "\n",
    "url = \"https://api.vectara.io/v1/index\"\n",
    "\n",
    "payload = json.dumps({\n",
    "  \"customerId\": customer_id,\n",
    "  \"corpusId\": corpus_id,\n",
    "  \"document\": {\n",
    "    \"documentId\": \"selected-works-of-shakespeare\",\n",
    "    \"title\": \"William Shakespeare, Greatest Hits\",\n",
    "    \"metadataJson\": \"{\\\"timespan\\\": \\\"26 April 1564---23 April 1616\\\", \\\"stars\\\": 5, \\\"author\\\": \\\"William Shakespeare\\\"}\",\n",
    "    \"section\": [\n",
    "      {\n",
    "        \"title\": \"King Lear\",\n",
    "        \"text\": \"Synopsis: King Lear, intending to divide his power and kingdom among his three daughters, demands public professions of their love. His youngest daughter, ...\",\n",
    "        \"section\": [\n",
    "          {\n",
    "            \"title\": \"Act I\",\n",
    "            \"text\": \"KENT: I thought the king had more affected the Duke of Albany than Cornwall.\\nGLOUCESTER: It did always seem so to us...\",\n",
    "            \"metadataJson\": \"{\\\"stage-instructions\\\": \\\"Enter KENT, GLOUCESTER, and EDMUND\\\"}\"\n",
    "          },\n",
    "          {\n",
    "            \"title\": \"Act II\",\n",
    "            \"text\": \"EDMUND: Save thee, Curan. ...\",\n",
    "            \"metadataJson\": \"{\\\"stage-instructions\\\": \\\"Enter EDMUND, and CURAN meets him\\\"}\"\n",
    "          }\n",
    "        ]\n",
    "      },\n",
    "      {\n",
    "        \"title\": \"Antony and Cleopatra\",\n",
    "        \"text\": \"PHILO: Nay, but this dotage of our general's\\nO'erflows the measure: those his goodly eyes, ...\"\n",
    "      }\n",
    "    ]\n",
    "  }\n",
    "})\n",
    "headers = {\n",
    "  'Content-Type': 'application/json',\n",
    "  'Accept': 'application/json',\n",
    "  'customer-id': customer_id,\n",
    "  'x-api-key': corpus_api_key\n",
    "}\n",
    "\n",
    "response = requests.request(\"POST\", url, headers=headers, data=payload)\n",
    "res = response.json()\n",
    "print(res)"
   ]
  },
  {
   "cell_type": "code",
   "execution_count": 7,
   "id": "79d65484-f1c4-4f65-9754-885bd46eaf88",
   "metadata": {
    "editable": true,
    "jupyter": {
     "source_hidden": true
    },
    "slideshow": {
     "slide_type": ""
    },
    "tags": [
     "hide-input"
    ]
   },
   "outputs": [],
   "source": [
    "# Delete the document so that we can properly see the output message when using APIv2\n",
    "\n",
    "url = f\"https://api.vectara.io/v2/corpora/{corpus_key}/documents/selected-works-of-shakespeare\"\n",
    "\n",
    "payload={}\n",
    "headers = {\n",
    "  'x-api-key': personal_api_key\n",
    "}\n",
    "\n",
    "response = requests.request(\"DELETE\", url, headers=headers, data=payload)"
   ]
  },
  {
   "cell_type": "code",
   "execution_count": 8,
   "id": "54c008ce-fb5b-45ac-86ee-343ba008d47d",
   "metadata": {},
   "outputs": [
    {
     "name": "stdout",
     "output_type": "stream",
     "text": [
      "{'id': 'selected-works-of-shakespeare', 'metadata': {'timespan': '26 April 1564---23 April 1616', 'stars': 5, 'author': 'William Shakespeare'}, 'storage_usage': {'bytes_used': 468, 'metadata_bytes_used': 1005}}\n"
     ]
    }
   ],
   "source": [
    "# Using APIv2\n",
    "\n",
    "import requests\n",
    "import json\n",
    "\n",
    "url = f\"https://api.vectara.io/v2/corpora/{corpus_key}/documents\"\n",
    "\n",
    "payload = json.dumps({\n",
    "  \"id\": \"selected-works-of-shakespeare\",\n",
    "  \"type\": \"structured\",\n",
    "  \"title\": \"William Shakespeare, Greatest Hits\",\n",
    "  \"metadata\": {\n",
    "    \"timespan\": \"26 April 1564---23 April 1616\",\n",
    "    \"stars\": 5,\n",
    "    \"author\": \"William Shakespeare\"\n",
    "  },\n",
    "  \"sections\": [\n",
    "    {\n",
    "      \"title\": \"King Lear\",\n",
    "      \"text\": \"Synopsis: King Lear, intending to divide his power and kingdom among his three daughters, demands public professions of their love. His youngest daughter, ...\",\n",
    "      \"sections\": [\n",
    "        {\n",
    "          \"title\": \"Act I\",\n",
    "          \"text\": \"KENT: I thought the king had more affected the Duke of Albany than Cornwall.\\nGLOUCESTER: It did always seem so to us...\",\n",
    "          \"metadata\": {\n",
    "            \"stage-instructions\": \"Enter KENT, GLOUCESTER, and EDMUND\"\n",
    "          }\n",
    "        },\n",
    "        {\n",
    "          \"title\": \"Act II\",\n",
    "          \"text\": \"EDMUND: Save thee, Curan. ...\",\n",
    "          \"metadata\": {\n",
    "            \"stage-instructions\": \"Enter EDMUND, and CURAN meets him\"\n",
    "          }\n",
    "        }\n",
    "      ]\n",
    "    },\n",
    "    {\n",
    "      \"title\": \"Antony and Cleopatra\",\n",
    "      \"text\": \"PHILO: Nay, but this dotage of our general's\\nO'erflows the measure: those his goodly eyes, ...\"\n",
    "    }\n",
    "  ]\n",
    "})\n",
    "headers = {\n",
    "  'Content-Type': 'application/json',\n",
    "  'Accept': 'application/json',\n",
    "  'x-api-key': corpus_api_key\n",
    "}\n",
    "\n",
    "response = requests.request(\"POST\", url, headers=headers, data=payload)\n",
    "res = response.json()\n",
    "print(res)"
   ]
  },
  {
   "cell_type": "markdown",
   "id": "d130d184-220c-44bc-ba0f-0eb2ffbe5f18",
   "metadata": {},
   "source": [
    "A few things to notice:\n",
    "1. The overall structure of the payload has changed. In APIv2, there is no longer a `document` section. Also, you do not need to specify your `customer_id` or `corpus_id`. These are implemented through the URL and header fields.\n",
    "2. While APIv1 uses `metadataJson` to store document and section metadata, which needs to be a string representation of the metadata dictionary. In contrast, APIv2 simplifies this and uses `metadata` which allows you to just use a dictionary of metadata for each document and section. The APIv2 layout is better organized for users and eliminates the need to escape quotations.\n",
    "3. Other field names have changed as well, such as: `documentId` -> `id` and `section` -> `sections`.\n",
    "4. APIv2 now enforces that each `section` has `text` (this argument was optional for APIv1). For both versions, all other `section` parameters are optional.\n",
    "5. For the APIv2 example, our code uses the `structured` document type. This is the most commonly used type when indexing a document because it allows users to divide the document by the explicit sections in the document and let Vectara perform the chunking of text for the best model performance. We also support the `core` document type in which you as the developer explicitly define how the document is chunked. You can read more about the different types of documents [here](https://docs.vectara.com/docs/api-reference/indexing-apis/indexing#core-document-object-definition)."
   ]
  },
  {
   "cell_type": "markdown",
   "id": "9853efa6-2ed2-4c30-a68d-a7d6be37c76a",
   "metadata": {},
   "source": [
    "# Querying"
   ]
  },
  {
   "cell_type": "markdown",
   "id": "214240b4-814e-4949-84d2-12fcea3d2c2b",
   "metadata": {},
   "source": [
    "## Simple Corpus Query\n",
    "\n",
    "We start with search only, and we'll see how to add generation later on. \n",
    "\n",
    "If we want to execute a simple semantic search operation, APIv2 provides a simple way to run this query using URL parameters.\n",
    "\n",
    "Let's look at an example using APIv1 vs APIv2:"
   ]
  },
  {
   "cell_type": "code",
   "execution_count": 9,
   "id": "797eda02-b7e5-4f97-aa80-9022f2700e80",
   "metadata": {},
   "outputs": [
    {
     "name": "stdout",
     "output_type": "stream",
     "text": [
      "Here's the top 3 search results:\n",
      "1. At Vectara, we pride ourselves on thinking outside the box, and our pet policy is no exception.\n",
      "2. We regret to inform you that common household pets such as cats and dogs are not allowed on\n",
      "the Vectara campuses.\n",
      "3. ●   The Vectara Zoo\n",
      "               ○   Our on-site mini-zoo is home to these extraordinary animals.\n"
     ]
    }
   ],
   "source": [
    "# Using APIv1\n",
    "\n",
    "import requests\n",
    "import json\n",
    "\n",
    "url = \"https://api.vectara.io/v1/query\"\n",
    "query_str = \"Are pets allowed at Vectara?\"\n",
    "payload = json.dumps({\n",
    "  \"query\": [\n",
    "    {\n",
    "      \"query\": query_str,\n",
    "      \"start\": 0,\n",
    "      \"numResults\": 10,\n",
    "      \"contextConfig\": {\n",
    "        \"sentencesBefore\": 0,\n",
    "        \"sentencesAfter\": 0\n",
    "      },\n",
    "      \"corpusKey\": [\n",
    "        {\n",
    "          \"customerId\": customer_id,\n",
    "          \"corpusId\": corpus_id\n",
    "        }\n",
    "      ],\n",
    "    }\n",
    "  ]\n",
    "})\n",
    "\n",
    "headers = {\n",
    "  'Content-Type': 'application/json',\n",
    "  'Accept': 'application/json',\n",
    "  'x-api-key': corpus_api_key\n",
    "}\n",
    "response = requests.request(\"POST\", url, headers=headers, data=payload)\n",
    "res = response.json()\n",
    "\n",
    "print(\"Here's the top 3 search results:\")\n",
    "for i in range(3):\n",
    "    print(f\"{i+1}. {res['responseSet'][0]['response'][i]['text']}\")"
   ]
  },
  {
   "cell_type": "code",
   "execution_count": 10,
   "id": "a6de974e-4e49-486b-b2c5-8e5eb1257001",
   "metadata": {},
   "outputs": [
    {
     "name": "stdout",
     "output_type": "stream",
     "text": [
      "Here's the top 3 search results:\n",
      "1. We regret to inform you that common household pets such as cats and dogs are not allowed on\n",
      "the Vectara campuses.\n",
      "2. At Vectara, we pride ourselves on thinking outside the box, and our pet policy is no exception.\n",
      "3. ●   The Vectara Zoo\n",
      "               ○   Our on-site mini-zoo is home to these extraordinary animals.\n"
     ]
    }
   ],
   "source": [
    "# Using APIv2: simple query\n",
    "\n",
    "import requests\n",
    "import urllib.parse\n",
    "\n",
    "encoded_query_str = urllib.parse.quote(query_str)\n",
    "url = f\"https://api.vectara.io/v2/corpora/{corpus_key}/query?query={encoded_query_str}\"\n",
    "payload={}\n",
    "headers = {\n",
    "  'Accept': 'application/json',\n",
    "  'x-api-key': corpus_api_key\n",
    "}\n",
    "\n",
    "response = requests.request(\"GET\", url, headers=headers, data=payload)\n",
    "res = response.json()\n",
    "\n",
    "print(\"Here's the top 3 search results:\")\n",
    "for i in range(3):\n",
    "    print(f\"{i+1}. {res['search_results'][i]['text']}\")"
   ]
  },
  {
   "cell_type": "markdown",
   "id": "11391d09-0bd1-416b-9c44-40517083469b",
   "metadata": {},
   "source": [
    "A few things here are new:\n",
    "1. With APIv1, we use a POST operator, using the same general command structure as any other type of query in APIv1 (see others below). It is also required to specify `numResults` and a list of `corpusKey` even though we only want to search a single corpus. With APIv2, we use a completely separate command. Instead of using a POST, which is typically used to create a new resource, we use the more appropriate GET operator to simply pull information from our corpus. This is accomplished in a concise manner by simply encoding the URL with the corpus key and the query. That's it! Note how we used the `quote` method of urllib.parse to ensure the query is encoded properly.\n",
    "3. The APIv2 URL is as you expect from a resource-oriented design: identifying the corpus as `/corpora/{corpus_key}` and then running the query on that corpus. That is also why we don't need to specify the `corpusKey` as we had to do with APIv1."
   ]
  },
  {
   "cell_type": "markdown",
   "id": "27adfb18-4928-484e-b96e-3152f9e67890",
   "metadata": {},
   "source": [
    "## Corpus Query\n",
    "\n",
    "The simple corpus query provides a simple way to run a search but it does support the full set of search parameters (like hybrid search, sentencesBefore, sentencesAfter, or reranking), not does it allow for summarization. Let's see how a full RAG query works for a single corpus, again comparing APIv1 to APIv2:"
   ]
  },
  {
   "cell_type": "code",
   "execution_count": 11,
   "id": "b3f82ec6-b955-4043-884c-6d5227530cdb",
   "metadata": {},
   "outputs": [
    {
     "name": "stdout",
     "output_type": "stream",
     "text": [
      "Pets are not allowed at Vectara. While common household pets like cats and dogs are not permitted on the campuses, a select group of exotic creatures is welcomed instead to reflect the company's innovative spirit [1]. This unique approach includes interactions with exotic pets during team-building adventures and is a testament to Vectara's core values of innovation and unconventional thinking [6].\n",
      "Factual Consistency Score: 0.654007\n"
     ]
    }
   ],
   "source": [
    "# Using APIv1\n",
    "\n",
    "import requests\n",
    "import json\n",
    "\n",
    "url = \"https://api.vectara.io/v1/query\"\n",
    "payload = json.dumps({\n",
    "  \"query\": [\n",
    "    {\n",
    "      \"query\": query_str,\n",
    "      \"start\": 0,\n",
    "      \"numResults\": 10,\n",
    "      \"contextConfig\": {\n",
    "        \"sentencesBefore\": 2,\n",
    "        \"sentencesAfter\": 2\n",
    "      },\n",
    "      \"corpusKey\": [\n",
    "        {\n",
    "          \"customerId\": customer_id,\n",
    "          \"corpusId\": corpus_id,\n",
    "          \"lexicalInterpolationConfig\": {\n",
    "              \"lambda\": 0.025\n",
    "          }\n",
    "        }\n",
    "      ],\n",
    "      \"summary\": [\n",
    "        {\n",
    "          \"maxSummarizedResults\": 10,\n",
    "          \"responseLang\": \"eng\",\n",
    "          \"summarizerPromptName\": \"vectara-summary-ext-24-05-sml\",\n",
    "          \"factual_consistency_score\": True\n",
    "        }\n",
    "      ]\n",
    "    }\n",
    "  ]\n",
    "})\n",
    "headers = {\n",
    "  'Content-Type': 'application/json',\n",
    "  'Accept': 'application/json',\n",
    "  'x-api-key': corpus_api_key\n",
    "}\n",
    "response = requests.request(\"POST\", url, headers=headers, data=payload)\n",
    "res = response.json()\n",
    "print(res['responseSet'][0]['summary'][0]['text'])\n",
    "print(f\"Factual Consistency Score: {res['responseSet'][0]['summary'][0]['factualConsistency']['score']}\")"
   ]
  },
  {
   "cell_type": "code",
   "execution_count": 12,
   "id": "8dd5a7aa-030b-4fca-8d3e-a635321ed1b2",
   "metadata": {},
   "outputs": [
    {
     "name": "stdout",
     "output_type": "stream",
     "text": [
      "Pets such as cats and dogs are not allowed at Vectara. However, the company welcomes a select group of exotic creatures as part of their pet policy, reflecting their innovative and daring spirit [1]. The exotic pets at Vectara serve as ambassadors of the company's vision and values, adding adventure and wisdom to the workplace [7].\n",
      "Factual Consistency Score: 0.7290558\n"
     ]
    }
   ],
   "source": [
    "# Using APIv2\n",
    "\n",
    "import requests\n",
    "import json\n",
    "\n",
    "url = f\"https://api.vectara.io/v2/corpora/{corpus_key}/query\"\n",
    "\n",
    "payload = json.dumps({\n",
    "  \"query\": query_str,\n",
    "  \"search\": {\n",
    "    \"lexical_interpolation\": 0.025,\n",
    "    \"offset\": 0,\n",
    "    \"limit\": 10,\n",
    "    \"context_configuration\": {\n",
    "      \"sentences_before\": 2,\n",
    "      \"sentences_after\": 2\n",
    "    },\n",
    "  },\n",
    "  \"generation\": {\n",
    "    \"max_used_search_results\": 10,\n",
    "    \"response_language\": \"eng\",\n",
    "    \"prompt_name\": \"vectara-summary-ext-24-05-sml\",\n",
    "    \"enable_factual_consistency_score\": True\n",
    "  }\n",
    "})\n",
    "headers = {\n",
    "  'Content-Type': 'application/json',\n",
    "  'Accept': 'application/json',\n",
    "  'x-api-key': corpus_api_key\n",
    "}\n",
    "\n",
    "response = requests.request(\"POST\", url, headers=headers, data=payload)\n",
    "res = response.json()\n",
    "print(res['summary'])\n",
    "print(f\"Factual Consistency Score: {res['factual_consistency_score']}\")"
   ]
  },
  {
   "cell_type": "markdown",
   "id": "cba29fe0-b9d7-493d-92a8-9e63a71270f8",
   "metadata": {},
   "source": [
    "There a few important details to point out here:\n",
    "1. First notice that our HTTP verb for APIv2 changed from a GET to a POST because we are creating something new. In this case, we are **creating a summary** of document information that answers our question, providing users a concise, compiled response that eliminates the need to read each retrieved text.\n",
    "\n",
    "2. Note that in APIv2 the structure of the query JSON has been refactored to make it simple and more intuitive:\n",
    "- The `query` string itself is a separate variable and we have `search` and `generation` as separate sub-dictionaries.\n",
    "- Names have been changed: for example `maxSummarizedResults` -> `max_used_search_results`, `summarizerPromptName` -> `prompt_name` and `responseLang` -> `response_language`.\n",
    "- `response_language` now only supports [ISO 693-3](https://iso639-3.sil.org/code_tables/639/data), so for example, for English you can only use `eng` (`en`, the 693-1 code won't work). When you migrate to APIv2 please use the playground and documentation to make sure you use the API in the way intended and notice any naming changes that are required.\n",
    "\n",
    "3. The outputs in APIv2 are also easier to work with. For example the summary text is available as `res[\"summary\"]` \n",
    "\n",
    "4. We also included the `factual_consistency_score` in our output, which provides the probability that the generated answer is factually consistent with the search results. You can learn about the factual consistency score [here](https://docs.vectara.com/docs/api-reference/search-apis/stream-query#factual-consistency-score).\n",
    "\n",
    "5. Reranking is not used here in either APIv1 or APIv2. See below for further examples (e.g. in the Chat portion) that do enable the reranker."
   ]
  },
  {
   "cell_type": "markdown",
   "id": "f10bf379-56d8-4a9b-aae2-b3728027c112",
   "metadata": {},
   "source": [
    "## Streaming Output\n",
    "\n",
    "One more thing about queries: You may want to be able to stream the summary of your query. To do this in APIv1, you have to use a completely separate API endpoint: [StreamQuery](https://docs.vectara.com/docs/1.0/rest-api/stream-query). We have greatly simplified this in APIv2 by creating a boolean flag `stream_response` to be used with both types of queries that allow generative summarization: [corpus query](https://docs.vectara.com/docs/rest-api/query-corpus) or [query corpora](https://docs.vectara.com/docs/rest-api/query) request. Let's see how this is done with a corpus query:"
   ]
  },
  {
   "cell_type": "code",
   "execution_count": 13,
   "id": "0b2d9d42-0da1-4e08-b4e2-67e4e505e93b",
   "metadata": {},
   "outputs": [],
   "source": [
    "# Helper function to print streamed output for APIv1\n",
    "\n",
    "def print_stream_v1(response):\n",
    "    for line in response.iter_lines():\n",
    "        line = line.decode(\"utf-8\")\n",
    "        if line:\n",
    "            line = json.loads(line)\n",
    "            if line['result']['summary']:\n",
    "                print(line['result']['summary']['text'], end = '')\n",
    "                if line['result']['summary']['factualConsistency']:\n",
    "                    print(f\"\\nFactual Consistency Score: {line['result']['summary']['factualConsistency']['score']}\")"
   ]
  },
  {
   "cell_type": "code",
   "execution_count": 14,
   "id": "58f764ad-8443-4890-aab4-8b3bb2df7976",
   "metadata": {},
   "outputs": [
    {
     "name": "stdout",
     "output_type": "stream",
     "text": [
      "Pets are not allowed at Vectara. While common household pets like cats and dogs are not permitted on the campuses, Vectara welcomes a select group of exotic creatures that reflect their daring and innovative spirit [1]. This includes exotic animals like velociraptors, symbolizing agility, speed, and precision [9]. Additionally, Vectara has a virtual \"Pet Corner\" on their company intranet for sharing pictures, videos, and stories of cats and dogs [8].\n",
      "Factual Consistency Score: 0.430898\n"
     ]
    }
   ],
   "source": [
    "# Using APIv1\n",
    "\n",
    "import requests\n",
    "import json\n",
    "\n",
    "url = \"https://api.vectara.io/v1/stream-query\"\n",
    "\n",
    "payload = json.dumps({\n",
    "  \"query\": [\n",
    "    {\n",
    "      \"query\": query_str,\n",
    "      \"start\": 0,\n",
    "      \"numResults\": 10,\n",
    "      \"contextConfig\": {\n",
    "        \"sentences_before\": 2,\n",
    "        \"sentences_after\": 2\n",
    "      },\n",
    "      \"corpusKey\": [\n",
    "        {\n",
    "          \"corpus_id\": corpus_id\n",
    "        }\n",
    "      ],\n",
    "      \"rerankingConfig\": {\n",
    "          \"rerankerId\": 272725718,\n",
    "          \"mmrConfig\": {\n",
    "            \"diversityBias\": 0.1\n",
    "          }\n",
    "      },\n",
    "      \"summary\": [\n",
    "        {\n",
    "          \"max_summarized_results\": 10,\n",
    "          \"response_lang\": \"en\",\n",
    "          \"summarizerPromptName\": \"vectara-summary-ext-24-05-sml\",\n",
    "          \"factual_consistency_score\": True\n",
    "        }\n",
    "      ]\n",
    "    }\n",
    "  ]\n",
    "})\n",
    "headers = {\n",
    "  'Content-Type': 'application/json',\n",
    "  'Accept': 'application/json',\n",
    "  'customer-id': customer_id,\n",
    "  'x-api-key': corpus_api_key\n",
    "}\n",
    "\n",
    "response = requests.request(\"POST\", url, headers=headers, data=payload, stream=True)\n",
    "print_stream_v1(response)"
   ]
  },
  {
   "cell_type": "code",
   "execution_count": 15,
   "id": "6327372e-9e70-4775-82fb-1df4bcf7f29b",
   "metadata": {},
   "outputs": [],
   "source": [
    "# Helper function for printing out streamed response - API v2\n",
    "\n",
    "def print_stream_v2(response):\n",
    "    for line in response.iter_lines():\n",
    "        line = line.decode(\"utf-8\")\n",
    "        if line:\n",
    "            key, value = line.split(':', 1)\n",
    "            if key == 'data':\n",
    "                line = json.loads(value)\n",
    "                if line['type'] == 'generation_chunk':\n",
    "                    print(line['generation_chunk'], end = '')\n",
    "                elif line['type'] == 'factual_consistency_score':\n",
    "                    print(f\"\\nFactual Consistency Score: {line['factual_consistency_score']}\")"
   ]
  },
  {
   "cell_type": "code",
   "execution_count": 16,
   "id": "eecadba9-b873-44b1-841f-71a2f4b896a8",
   "metadata": {},
   "outputs": [
    {
     "name": "stdout",
     "output_type": "stream",
     "text": [
      "Pets are not allowed at Vectara. While common household pets like cats and dogs are not permitted on the Vectara campuses, a select group of exotic creatures is welcomed instead to reflect the company's innovative spirit [1]. This unique approach includes hosting exotic animals in an on-site mini-zoo for inspiration, relaxation, and education [4]. The company values innovation, courage, and unconventional thinking, which is reflected in their choice of exotic pets [7].\n",
      "Factual Consistency Score: 0.6742027\n"
     ]
    }
   ],
   "source": [
    "# Using APIv2\n",
    "\n",
    "import requests\n",
    "import json\n",
    "\n",
    "url = f\"https://api.vectara.io/v2/corpora/{corpus_key}/query\"\n",
    "\n",
    "payload = json.dumps({\n",
    "  \"query\": query_str,\n",
    "  \"search\": {\n",
    "    \"lexical_interpolation\": 0.025,\n",
    "    \"offset\": 0,\n",
    "    \"limit\": 10,\n",
    "    \"context_configuration\": {\n",
    "      \"sentences_before\": 2,\n",
    "      \"sentences_after\": 2\n",
    "    },\n",
    "    \"reranker\": {\n",
    "      \"type\": \"mmr\",\n",
    "      \"diversity_bias\": 0.1\n",
    "    }\n",
    "  },\n",
    "  \"generation\": {\n",
    "    \"max_used_search_results\": 10,\n",
    "    \"response_language\": \"eng\",\n",
    "    \"prompt_name\": \"vectara-summary-ext-24-05-sml\",\n",
    "    \"enable_factual_consistency_score\": True\n",
    "  },\n",
    "  \"stream_response\": True\n",
    "})\n",
    "headers = {\n",
    "  'Content-Type': 'application/json',\n",
    "  'Accept': 'text/event-stream',\n",
    "  'x-api-key': corpus_api_key\n",
    "}\n",
    "\n",
    "response = requests.request(\"POST\", url, headers=headers, data=payload, stream=True)\n",
    "print_stream_v2(response)"
   ]
  },
  {
   "cell_type": "markdown",
   "id": "9bf92249-03ac-4fe6-90c3-820713a45968",
   "metadata": {},
   "source": [
    "Notice that we have added something else to our query: a **reranker**. After the initial search query, it is often useful to re-sort to retrieved results to achieve a more precise reranking. \n",
    "\n",
    "There are two types of rerankers:\n",
    "1. [Maximal Marginal Relevance](https://docs.vectara.com/docs/api-reference/search-apis/reranking#maximal-marginal-relevance-mmr-reranker), or MMR, reranker, which can be used to increase diversity of results instead of focusing solely on relevance. The `diversity_bias` parameter, which ranges from 0 to 1, specifies the extent to which diversity is requested (0=full relevance, 1=full diversity).\n",
    "2. [Multilingual Reranker](https://docs.vectara.com/docs/api-reference/search-apis/reranking#vectara-multilingual-reranker-v1), which can be used to rerank by relevance to the query, and supports reranking across 100+ languages.\n",
    "\n",
    "Notice that in APIv2, the `reranker` parameter is contained within the `search` part of our query and is completed before generating the summarized results."
   ]
  },
  {
   "cell_type": "markdown",
   "id": "919306c2-23af-44f5-b2d2-5c121779c07a",
   "metadata": {},
   "source": [
    "## Vectara Chat\n",
    "\n",
    "The Chat functionality allows you to have conversations with your data and ask multiple related queries without re-specifying all of the details from your previous queries. This means Vectara maintains history of your chat question/response pairs in the conversation and uses that for future questions to provide more context.\n",
    "\n",
    "When using chat, your first query will create a new chat and the response will include a generated `conversationId`. After this, you will use the `conversationId` for all subsequent queries, known as turns. Let's take a look at the difference between chat conversations in APIv1 and APIv2:"
   ]
  },
  {
   "cell_type": "code",
   "execution_count": 17,
   "id": "d13d9f37-896f-4ed0-93b9-4e38331f010f",
   "metadata": {},
   "outputs": [],
   "source": [
    "def chat_api_v1(query, conversation_id=\"\"):\n",
    "    url = \"https://api.vectara.io/v1/query\"\n",
    "    \n",
    "    payload = json.dumps({\n",
    "      \"query\": [\n",
    "        {\n",
    "          \"query\": query,\n",
    "          \"start\": 0,\n",
    "          \"numResults\": 10,\n",
    "          \"contextConfig\": {\n",
    "            \"sentencesBefore\": 2,\n",
    "            \"sentencesAfter\": 2\n",
    "          },\n",
    "          \"corpusKey\": [\n",
    "            {\n",
    "              \"customerId\": customer_id,\n",
    "              \"corpusId\": corpus_id,\n",
    "              \"lexicalInterpolationConfig\": {\n",
    "                \"lambda\": 0.025\n",
    "              }\n",
    "            }\n",
    "          ],\n",
    "          \"rerankingConfig\": {\n",
    "              \"rerankerId\": 272725718,\n",
    "              \"mmrConfig\": {\n",
    "                \"diversityBias\": 0.1\n",
    "              }\n",
    "          },\n",
    "          \"summary\": [\n",
    "            {\n",
    "              \"maxSummarizedResults\": 5,\n",
    "              \"responseLang\": \"en\",\n",
    "              \"summarizerPromptName\": \"vectara-summary-ext-24-05-sml\",\n",
    "              \"chat\": {\n",
    "                \"store\": True,\n",
    "                \"conversationId\": conversation_id,\n",
    "                \"factualConsistencyScore\": True\n",
    "              }\n",
    "            }\n",
    "          ]\n",
    "        }\n",
    "      ]\n",
    "    })\n",
    "    \n",
    "    headers = {\n",
    "      'Content-Type': 'application/json',\n",
    "      'Accept': 'application/json',\n",
    "      'customer-id': customer_id,\n",
    "      'x-api-key': corpus_api_key\n",
    "    }\n",
    "    \n",
    "    response = requests.request(\"POST\", url, headers=headers, data=payload)\n",
    "    res = response.json()\n",
    "    print(res['responseSet'][0]['summary'][0]['text'])\n",
    "    print(f\"Factual Consistency Score: {res['responseSet'][0]['summary'][0]['factualConsistency']['score']}\\n\")\n",
    "    return res['responseSet'][0]['summary'][0]['chat']['conversationId']"
   ]
  },
  {
   "cell_type": "code",
   "execution_count": 18,
   "id": "260968bb-98f3-487b-a074-339159a4f32e",
   "metadata": {},
   "outputs": [
    {
     "name": "stdout",
     "output_type": "stream",
     "text": [
      "Velociraptors are allowed in the office as they symbolize agility, speed, and precision, serving as a reminder to approach work with ferocity and focus. Trained professionals handle them, and they even act as excellent security guards [1]. Common household pets like cats and dogs are not permitted, but a select group of exotic creatures, including velociraptors, reflecting a daring and innovative spirit, are welcomed [2].\n",
      "Factual Consistency Score: 0.9072879\n",
      "\n",
      "Velociraptors are special due to their symbolization of agility, speed, and precision. They serve as a constant reminder to approach work with ferocity and focus, making them excellent security guards. Trained professionals handle them, highlighting their unique characteristics [1].\n",
      "Factual Consistency Score: 0.908545\n",
      "\n"
     ]
    }
   ],
   "source": [
    "# Using APIv1\n",
    "\n",
    "import requests\n",
    "import json\n",
    "\n",
    "# Creating a chat conversation\n",
    "conv_id_v1 = chat_api_v1(query=\"Are velociraptors allowed in the office?\")\n",
    "\n",
    "# Chat turn\n",
    "_ = chat_api_v1(query=\"What makes them special?\", conversation_id=conv_id_v1)"
   ]
  },
  {
   "cell_type": "code",
   "execution_count": 19,
   "id": "2408d597-b9c2-497f-ba80-f78d7d8ad019",
   "metadata": {},
   "outputs": [],
   "source": [
    "def chat_api_v2(query, conversation_id=\"\"):\n",
    "    if conversation_id == \"\":\n",
    "        url = \"https://api.vectara.io/v2/chats\"\n",
    "    else:\n",
    "        url = f\"https://api.vectara.io/v2/chats/{conversation_id}/turns\"\n",
    "\n",
    "    payload = json.dumps({\n",
    "      \"query\": query,\n",
    "      \"search\": {\n",
    "        \"corpora\": [\n",
    "          {\n",
    "            \"lexical_interpolation\": 0.025,\n",
    "            \"corpus_key\": corpus_key\n",
    "          }\n",
    "        ],\n",
    "        \"offset\": 0,\n",
    "        \"limit\": 10,\n",
    "        \"context_configuration\": {\n",
    "          \"sentences_before\": 2,\n",
    "          \"sentences_after\": 2\n",
    "        },\n",
    "        \"reranker\": {\n",
    "          \"type\": \"mmr\",\n",
    "          \"diversity_bias\": 0.1\n",
    "        }\n",
    "      },\n",
    "      \"generation\": {\n",
    "        \"prompt_name\": \"vectara-summary-ext-24-05-sml\",\n",
    "        \"max_used_search_results\": 5,\n",
    "        \"response_language\": \"eng\",\n",
    "        \"enable_factual_consistency_score\": True\n",
    "      },\n",
    "      \"chat\": {\n",
    "        \"store\": True\n",
    "      },\n",
    "      \"stream_response\": False\n",
    "    })\n",
    "    headers = {\n",
    "      'Content-Type': 'application/json',\n",
    "      'Accept': 'application/json',\n",
    "      'x-api-key': corpus_api_key\n",
    "    }\n",
    "    \n",
    "    response = requests.request(\"POST\", url, headers=headers, data=payload)\n",
    "    res = response.json()\n",
    "    print(res['answer'])\n",
    "    print(f\"Factual Consistency Score: {res['factual_consistency_score']}\\n\")\n",
    "    return res['chat_id']"
   ]
  },
  {
   "cell_type": "code",
   "execution_count": 20,
   "id": "859cbbf6-586a-4e90-ad7a-20ba57f8040d",
   "metadata": {},
   "outputs": [
    {
     "name": "stdout",
     "output_type": "stream",
     "text": [
      "Velociraptors are allowed in the office as they symbolize agility, speed, and precision, serving as a reminder to approach work with ferocity and focus. Trained professionals handle them, and they even make excellent security guards [1]. Common household pets like cats and dogs are not permitted, but a select group of exotic creatures, including velociraptors, reflecting a daring and innovative spirit, are welcomed [2].\n",
      "Factual Consistency Score: 0.9060313\n",
      "\n",
      "Velociraptors are special due to their symbolization of agility, speed, and precision. They serve as a constant reminder to approach work with ferocity and focus, making them excellent security guards. Trained professionals handle them, highlighting their unique characteristics [1].\n",
      "Factual Consistency Score: 0.908545\n",
      "\n"
     ]
    }
   ],
   "source": [
    "# Using APIv2\n",
    "\n",
    "import requests\n",
    "import json\n",
    "\n",
    "# Creating a chat conversation\n",
    "conv_id_v2 = chat_api_v2(query=\"Are velociraptors allowed in the office?\")\n",
    "\n",
    "\n",
    "# Chat turn\n",
    "_ = chat_api_v2(query=\"What makes them special?\", conversation_id=conv_id_v2)"
   ]
  },
  {
   "cell_type": "markdown",
   "id": "5b75b3bd-a2f0-49c6-94f2-d61a81a17bf9",
   "metadata": {},
   "source": [
    "Some key takeaways:\n",
    "1. First notice that in the second turn, we asked \"What makes **them** special?\". Based on our first turn, \"Are *velociraptors* allowed in the office?\", Vectara knows that **them** refers to *velociraptors*. However, if you look at the two responses, APIv1's response talks about multiple animals from the initial response, such as alligators while APIv2's response is correctly focused on velociraptors, providing a more detailed explanation.\n",
    "2. Take a look at the urls for each request. In APIv1, we are still using a query, just as we did for the simple corpus query and corpus query. We differentiate a chat from other query types by adding a `chat` parameter in the `summmary` section. Furthermore, we differentiate the creation of a new chat and a chat turn by the parameter `conversationId`. In contrast, APIv2 distinguishes chats in the request url, making it clearer that this is a turn in a chat and not an individual query."
   ]
  },
  {
   "cell_type": "markdown",
   "id": "349c6def-15b0-42eb-b9cd-0908027aeac1",
   "metadata": {},
   "source": [
    "## Authentication: Creating an Application Client\n",
    "\n",
    "Vectara supports authentication using both OAUTH2 and API keys. \n",
    "\n",
    "Although considered more complex, in many cases OAUTH2 is preferred as it provides additional layers of security (e.g. the tokens expire after 30 minutes).\n",
    "\n",
    "To use OAUTH2 with Vectara, you need to follow these steps:\n",
    "1. Create an \"Application Client\"\n",
    "2. Generate a JWT Token\n",
    "3. Use the JWT Token in a Vectara API request\n",
    "\n",
    "Let's start with creating an application client in both APIv1 and APIv2. There are many different roles of app clients that you can create, `owner`, `administrator`, `billing_administrator`, and `corpus_administrator`. You can read more about each of the app clients and their use cases [here](https://docs.vectara.com/docs/1.0/learn/authentication/role-based-access-control)."
   ]
  },
  {
   "cell_type": "markdown",
   "id": "3370cb80-80c6-4c11-b895-6aede4405254",
   "metadata": {},
   "source": [
    "Using APIv1: You may notice in our API Playground that there is no page for creating an app client, and yes it's not supported in APIv1. That being said, you can still create an API client through your Console under the authorization tab. Navigate to the [OAuth 2.0 tab](https://console.vectara.com/console/apiAccess/appClients) and you will see a blue button that says \"Create App Client\". You can create your app client through this interface.\n",
    "\n",
    "Creating API clients in the console works regardless of which version of the API you use, but with APIv2, you can also create an app client programmatically with the code below:"
   ]
  },
  {
   "cell_type": "code",
   "execution_count": 21,
   "id": "8c3d84cc-23ea-4844-9852-e973426269e5",
   "metadata": {},
   "outputs": [
    {
     "name": "stdout",
     "output_type": "stream",
     "text": [
      "App Client ID: app_5\n",
      "App Client Name: corpus_admin\n",
      "App Client Description: \n",
      "\n",
      "App Client Permissions:\n",
      "Operation Category: getChat; Client Permissions: {'allow_any_resource': True, 'allowed_resources': {}}\n",
      "Operation Category: getJob; Client Permissions: {'allow_any_resource': True, 'allowed_resources': {}}\n",
      "Operation Category: replaceFilterAttributes; Client Permissions: {'allow_any_resource': True, 'allowed_resources': {}}\n",
      "Operation Category: uploadFile; Client Permissions: {'allow_any_resource': True, 'allowed_resources': {}}\n",
      "Operation Category: createChat; Client Permissions: {'allow_any_resource': True, 'allowed_resources': {}}\n",
      "Operation Category: listRerankers; Client Permissions: {'allow_any_resource': True, 'allowed_resources': {}}\n",
      "Operation Category: updateChatTurn; Client Permissions: {'allow_any_resource': True, 'allowed_resources': {}}\n",
      "Operation Category: listLLMs; Client Permissions: {'allow_any_resource': True, 'allowed_resources': {}}\n",
      "Operation Category: queryCorpus; Client Permissions: {'allow_any_resource': True, 'allowed_resources': {}}\n",
      "Operation Category: query; Client Permissions: {'allow_any_resource': True, 'allowed_resources': {}}\n",
      "Operation Category: listChatTurns; Client Permissions: {'allow_any_resource': True, 'allowed_resources': {}}\n",
      "Operation Category: listCorpora; Client Permissions: {'allow_any_resource': True, 'allowed_resources': {}}\n",
      "Operation Category: createCorpus; Client Permissions: {'allow_any_resource': True, 'allowed_resources': {}}\n",
      "Operation Category: deleteCorpusDocument; Client Permissions: {'allow_any_resource': True, 'allowed_resources': {}}\n",
      "Operation Category: resetCorpus; Client Permissions: {'allow_any_resource': True, 'allowed_resources': {}}\n",
      "Operation Category: listChats; Client Permissions: {'allow_any_resource': True, 'allowed_resources': {}}\n",
      "Operation Category: searchCorpus; Client Permissions: {'allow_any_resource': True, 'allowed_resources': {}}\n",
      "Operation Category: createCorpusDocument; Client Permissions: {'allow_any_resource': True, 'allowed_resources': {}}\n",
      "Operation Category: createChatTurn; Client Permissions: {'allow_any_resource': True, 'allowed_resources': {}}\n",
      "Operation Category: listJobs; Client Permissions: {'allow_any_resource': True, 'allowed_resources': {}}\n",
      "Operation Category: getCorpus; Client Permissions: {'allow_any_resource': True, 'allowed_resources': {}}\n",
      "Operation Category: getChatTurn; Client Permissions: {'allow_any_resource': True, 'allowed_resources': {}}\n",
      "Operation Category: deleteChatTurn; Client Permissions: {'allow_any_resource': True, 'allowed_resources': {}}\n",
      "Operation Category: updateCorpus; Client Permissions: {'allow_any_resource': True, 'allowed_resources': {}}\n",
      "Operation Category: listCorpusDocuments; Client Permissions: {'allow_any_resource': True, 'allowed_resources': {}}\n",
      "Operation Category: deleteCorpus; Client Permissions: {'allow_any_resource': True, 'allowed_resources': {}}\n",
      "Operation Category: listEncoders; Client Permissions: {'allow_any_resource': True, 'allowed_resources': {}}\n",
      "Operation Category: deleteChat; Client Permissions: {'allow_any_resource': True, 'allowed_resources': {}}\n"
     ]
    }
   ],
   "source": [
    "# Using APIv2\n",
    "\n",
    "import requests\n",
    "import json\n",
    "\n",
    "url = \"https://api.vectara.io/v2/app_clients\"\n",
    "\n",
    "payload = json.dumps({\n",
    "  \"name\": \"corpus_admin\",\n",
    "  \"description\": \"This app client can do all corpus-related actions\",\n",
    "  \"type\": \"client_credentials\",\n",
    "  \"api_roles\": [\n",
    "    \"corpus_administrator\"\n",
    "  ]\n",
    "})\n",
    "headers = {\n",
    "  'Content-Type': 'application/json',\n",
    "  'Accept': 'application/json',\n",
    "  'x-api-key': personal_api_key\n",
    "}\n",
    "\n",
    "response = requests.request(\"POST\", url, headers=headers, data=payload)\n",
    "res = response.json()\n",
    "print(f\"App Client ID: {res['id']}\\nApp Client Name: {res['name']}\\nApp Client Description: {res['description']}\\n\\nApp Client Permissions:\")\n",
    "for key, value in res['api_policy']['allowed_operations'].items():\n",
    "    print(f\"Operation Category: {key}; Client Permissions: {value}\")"
   ]
  },
  {
   "cell_type": "markdown",
   "id": "65622e42-e9e5-4eda-b18f-88a8e9388583",
   "metadata": {},
   "source": [
    "## Generating a JWT Token\n",
    "\n",
    "The next step in this process is to generate a JWT Token. This is done in the same manner for both APIv1 and APIv2 by running the following cURL command:\n",
    "\n",
    "```Python\n",
    "curl -XPOST -H \"Content-type: application/x-www-form-urlencoded\" \n",
    "     -d \"grant_type=client_credentials&client_id=\\<your client ID goes here>&client_secret=\\<your client secret goes here>” “\\<your authentication URL goes here>”\n",
    "```\n",
    "\n",
    "Don't forget to replace all of the angle bracket info with the correct info from your app client. You can get all of this info in APIv2 with a GET request:"
   ]
  },
  {
   "cell_type": "code",
   "execution_count": 22,
   "id": "81ce1da8-99b6-4ead-bfbb-1de68e15aff5",
   "metadata": {},
   "outputs": [],
   "source": [
    "app_client_id = res['id']"
   ]
  },
  {
   "cell_type": "code",
   "execution_count": 23,
   "id": "202ec094-8c68-447c-9395-1b5be2465c53",
   "metadata": {},
   "outputs": [],
   "source": [
    "import requests\n",
    "\n",
    "url = f\"https://api.vectara.io/v2/app_clients/{app_client_id}\"\n",
    "\n",
    "payload={}\n",
    "headers = {\n",
    "  'Accept': 'application/json',\n",
    "  'x-api-key': personal_api_key\n",
    "}\n",
    "\n",
    "response = requests.request(\"GET\", url, headers=headers, data=payload)\n",
    "res = response.json()\n",
    "\n",
    "# Uncomment this code to see information for your client\n",
    "# print(f\"Client ID: {res['id']}\")\n",
    "# print(f\"Client Secret: {res['client_secret']}\")\n",
    "# print(\"Authentication URL: https://auth.vectara.io/oauth2/token\")"
   ]
  },
  {
   "cell_type": "markdown",
   "id": "9b5c546a-ba0c-4f66-85c4-1e2c491aafe7",
   "metadata": {},
   "source": [
    "This cURL should generate a JWT token that you can now use instead of a API key to authorize your other requests."
   ]
  },
  {
   "cell_type": "markdown",
   "id": "2aa799ec-fd74-49bc-beeb-e319cf326dff",
   "metadata": {},
   "source": [
    "## Displaying Errors\n",
    "\n",
    "Another important change from APIv1 to APIv2 is the way errors are communicated back from the API.\n",
    "\n",
    "For example, let's see what happens when we try to query a corpus that does not exist:"
   ]
  },
  {
   "cell_type": "code",
   "execution_count": 24,
   "id": "0d8eb4b3-90c4-4466-bb2a-4b63ff0d20bc",
   "metadata": {},
   "outputs": [
    {
     "name": "stdout",
     "output_type": "stream",
     "text": [
      "200\n",
      "{'code': 'QRY__INVALID_CORPUS', 'statusDetail': 'Cannot resolve corpus: 12', 'cause': None}\n"
     ]
    }
   ],
   "source": [
    "# Using APIv1\n",
    "\n",
    "import requests\n",
    "import json\n",
    "\n",
    "url = \"https://api.vectara.io/v1/query\"\n",
    "\n",
    "payload = json.dumps({\n",
    "  \"query\": [\n",
    "    {\n",
    "      \"query\": \"How can I write a query?\",\n",
    "      \"start\": 0,\n",
    "      \"numResults\": 10,\n",
    "      \"corpusKey\": [\n",
    "        {\n",
    "          \"customerId\": customer_id,\n",
    "          \"corpusId\": 12\n",
    "        }\n",
    "      ]\n",
    "    }\n",
    "  ]\n",
    "})\n",
    "headers = {\n",
    "  'Content-Type': 'application/json',\n",
    "  'Accept': 'application/json',\n",
    "  'customer-id': customer_id,\n",
    "  'x-api-key': corpus_api_key\n",
    "}\n",
    "\n",
    "response = requests.request(\"POST\", url, headers=headers, data=payload)\n",
    "res = response.json()\n",
    "print(response.status_code)\n",
    "print(res['responseSet'][0]['status'][0])"
   ]
  },
  {
   "cell_type": "code",
   "execution_count": 25,
   "id": "231f83d4-c5a7-42c9-8ca2-d6e721777792",
   "metadata": {},
   "outputs": [
    {
     "name": "stdout",
     "output_type": "stream",
     "text": [
      "403\n",
      "Denied access to resource vectara_docs.\n"
     ]
    }
   ],
   "source": [
    "# Using APIv2\n",
    "\n",
    "import requests\n",
    "\n",
    "url = \"https://api.vectara.io/v2/corpora/vectara_docs/query?query=How%20can%20I%20write%20a%20query?\"\n",
    "\n",
    "payload={}\n",
    "headers = {\n",
    "  'Accept': 'application/json',\n",
    "  'x-api-key': corpus_api_key\n",
    "}\n",
    "\n",
    "response = requests.request(\"GET\", url, headers=headers, data=payload)\n",
    "res = response.json()\n",
    "print(response.status_code)\n",
    "print(res['messages'][0])"
   ]
  },
  {
   "cell_type": "markdown",
   "id": "790f6c4b-0f25-4319-8bf8-dfe04161a564",
   "metadata": {},
   "source": [
    "Some takeaways:\n",
    "1. The `status_code` in the response indicates whether or not the request was successful, and if not, where the issue occurred:\n",
    "   - A response code in the 200's indicates that the request was successful\n",
    "   - A response code in the 400's indicates that the request was unsuccessful due to an issue with the request body (often a syntax error in the request)\n",
    "   - A response code in the 500's indicates that the request was unsuccessful due to an issue at the server level\n",
    "   \n",
    "2. APIv1 breaks up the response into a `code`, `statusDetail`, and `cause`, and in some cases response with a 200 code only to have the actual status code and text inside the `statusDetail` section. The response from APIv2 is more succinct than APIv1, providing a single, easy to understand message, and adhering correctly to status_code best practices."
   ]
  }
 ],
 "metadata": {
  "kernelspec": {
   "display_name": "Python 3 (ipykernel)",
   "language": "python",
   "name": "python3"
  },
  "language_info": {
   "codemirror_mode": {
    "name": "ipython",
    "version": 3
   },
   "file_extension": ".py",
   "mimetype": "text/x-python",
   "name": "python",
   "nbconvert_exporter": "python",
   "pygments_lexer": "ipython3",
   "version": "3.11.9"
  }
 },
 "nbformat": 4,
 "nbformat_minor": 5
}
