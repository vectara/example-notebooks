{
 "cells": [
  {
   "cell_type": "markdown",
   "id": "4baf3e85",
   "metadata": {},
   "source": [
    "[![Open In Colab](https://colab.research.google.com/assets/colab-badge.svg)](https://colab.research.google.com/github/vectara/example-notebooks/blob/main/notebooks/db-ingest.ipynb)"
   ]
  },
  {
   "cell_type": "code",
   "execution_count": null,
   "id": "5db62505",
   "metadata": {},
   "outputs": [],
   "source": [
    "import numpy as np\n",
    "import os\n",
    "import json\n",
    "import requests\n",
    "import markdown\n",
    "from bs4 import BeautifulSoup\n",
    "from urllib3.util import Retry\n",
    "\n",
    "import ray\n",
    "from ray.experimental import tqdm_ray\n",
    "\n",
    "from snowflake.connector import connect\n"
   ]
  },
  {
   "cell_type": "code",
   "execution_count": 2,
   "id": "0261d87d",
   "metadata": {},
   "outputs": [],
   "source": [
    "sf_user = '<SNOWFLAKE-USER-NAME>'\n",
    "sf_password = '<SNOWFLAKE-PASSWORD>'\n",
    "sf_account = '<SNOWFLAKE-ACCOUNT-ID>'"
   ]
  },
  {
   "cell_type": "markdown",
   "id": "ee86769c",
   "metadata": {},
   "source": [
    "We now use SQL to create the updated row for each review. This includes the reviewer name, date of review and actual review text, but also the information about the listing itself."
   ]
  },
  {
   "cell_type": "code",
   "execution_count": 3,
   "id": "c4b993b6",
   "metadata": {},
   "outputs": [],
   "source": [
    "con = connect(user=sf_user, password=sf_password, account=sf_account)\n",
    "cursor = con.cursor()\n",
    "cursor.execute(\"USE DATABASE AIRBNB;\")\n",
    "\n",
    "query = '''\n",
    "SELECT \n",
    "    DATE, REVIEWER_NAME, COMMENTS, R.ID as REVIEW_ID,\n",
    "    LATITUDE, LONGITUDE, ROOM_TYPE, DESCRIPTION,\n",
    "    NEIGHBOURHOOD_CLEANSED as NEIGHBORHOOD\n",
    "FROM REVIEWS AS R JOIN LISTINGS as L\n",
    "ON R.LISTING_ID = L.ID\n",
    "'''\n",
    "\n",
    "cursor.execute(query)\n",
    "df = cursor.fetch_pandas_all()"
   ]
  },
  {
   "cell_type": "code",
   "execution_count": 4,
   "id": "300268dc",
   "metadata": {
    "scrolled": false
   },
   "outputs": [
    {
     "data": {
      "text/html": [
       "<div>\n",
       "<style scoped>\n",
       "    .dataframe tbody tr th:only-of-type {\n",
       "        vertical-align: middle;\n",
       "    }\n",
       "\n",
       "    .dataframe tbody tr th {\n",
       "        vertical-align: top;\n",
       "    }\n",
       "\n",
       "    .dataframe thead th {\n",
       "        text-align: right;\n",
       "    }\n",
       "</style>\n",
       "<table border=\"1\" class=\"dataframe\">\n",
       "  <thead>\n",
       "    <tr style=\"text-align: right;\">\n",
       "      <th></th>\n",
       "      <th>DATE</th>\n",
       "      <th>REVIEWER_NAME</th>\n",
       "      <th>COMMENTS</th>\n",
       "      <th>REVIEW_ID</th>\n",
       "      <th>LATITUDE</th>\n",
       "      <th>LONGITUDE</th>\n",
       "      <th>ROOM_TYPE</th>\n",
       "      <th>DESCRIPTION</th>\n",
       "      <th>NEIGHBORHOOD</th>\n",
       "    </tr>\n",
       "  </thead>\n",
       "  <tbody>\n",
       "    <tr>\n",
       "      <th>0</th>\n",
       "      <td>2023-05-08</td>\n",
       "      <td>Mathias</td>\n",
       "      <td>Veldig bra oppholf</td>\n",
       "      <td>886755474280381042</td>\n",
       "      <td>41.37249</td>\n",
       "      <td>2.13603</td>\n",
       "      <td>Private room</td>\n",
       "      <td>&lt;b&gt;The space&lt;/b&gt;&lt;br /&gt;Breakfast buffet not inc...</td>\n",
       "      <td>Sants</td>\n",
       "    </tr>\n",
       "    <tr>\n",
       "      <th>1</th>\n",
       "      <td>2023-05-08</td>\n",
       "      <td>Stéphane</td>\n",
       "      <td>Parfait</td>\n",
       "      <td>886853033852892799</td>\n",
       "      <td>41.37249</td>\n",
       "      <td>2.13603</td>\n",
       "      <td>Private room</td>\n",
       "      <td>&lt;b&gt;The space&lt;/b&gt;&lt;br /&gt;Breakfast buffet not inc...</td>\n",
       "      <td>Sants</td>\n",
       "    </tr>\n",
       "    <tr>\n",
       "      <th>2</th>\n",
       "      <td>2022-10-28</td>\n",
       "      <td>Harry</td>\n",
       "      <td>Awesome space in a relatively quiet area.  Clo...</td>\n",
       "      <td>747593260851879467</td>\n",
       "      <td>41.37202</td>\n",
       "      <td>2.14067</td>\n",
       "      <td>Entire home/apt</td>\n",
       "      <td>Moderno apartamento (2 a 6 personas)  a  9 min...</td>\n",
       "      <td>la Bordeta</td>\n",
       "    </tr>\n",
       "    <tr>\n",
       "      <th>3</th>\n",
       "      <td>2022-10-31</td>\n",
       "      <td>Karine</td>\n",
       "      <td>Appartement situé à 10 minutes de la place d’E...</td>\n",
       "      <td>749781800071072130</td>\n",
       "      <td>41.37202</td>\n",
       "      <td>2.14067</td>\n",
       "      <td>Entire home/apt</td>\n",
       "      <td>Moderno apartamento (2 a 6 personas)  a  9 min...</td>\n",
       "      <td>la Bordeta</td>\n",
       "    </tr>\n",
       "    <tr>\n",
       "      <th>4</th>\n",
       "      <td>2022-11-04</td>\n",
       "      <td>Nathália</td>\n",
       "      <td>Muito obrigada pela estadia</td>\n",
       "      <td>752747990540719003</td>\n",
       "      <td>41.37202</td>\n",
       "      <td>2.14067</td>\n",
       "      <td>Entire home/apt</td>\n",
       "      <td>Moderno apartamento (2 a 6 personas)  a  9 min...</td>\n",
       "      <td>la Bordeta</td>\n",
       "    </tr>\n",
       "  </tbody>\n",
       "</table>\n",
       "</div>"
      ],
      "text/plain": [
       "         DATE REVIEWER_NAME  \\\n",
       "0  2023-05-08       Mathias   \n",
       "1  2023-05-08      Stéphane   \n",
       "2  2022-10-28         Harry   \n",
       "3  2022-10-31        Karine   \n",
       "4  2022-11-04      Nathália   \n",
       "\n",
       "                                            COMMENTS           REVIEW_ID  \\\n",
       "0                                 Veldig bra oppholf  886755474280381042   \n",
       "1                                            Parfait  886853033852892799   \n",
       "2  Awesome space in a relatively quiet area.  Clo...  747593260851879467   \n",
       "3  Appartement situé à 10 minutes de la place d’E...  749781800071072130   \n",
       "4                        Muito obrigada pela estadia  752747990540719003   \n",
       "\n",
       "   LATITUDE  LONGITUDE        ROOM_TYPE  \\\n",
       "0  41.37249    2.13603     Private room   \n",
       "1  41.37249    2.13603     Private room   \n",
       "2  41.37202    2.14067  Entire home/apt   \n",
       "3  41.37202    2.14067  Entire home/apt   \n",
       "4  41.37202    2.14067  Entire home/apt   \n",
       "\n",
       "                                         DESCRIPTION NEIGHBORHOOD  \n",
       "0  <b>The space</b><br />Breakfast buffet not inc...        Sants  \n",
       "1  <b>The space</b><br />Breakfast buffet not inc...        Sants  \n",
       "2  Moderno apartamento (2 a 6 personas)  a  9 min...   la Bordeta  \n",
       "3  Moderno apartamento (2 a 6 personas)  a  9 min...   la Bordeta  \n",
       "4  Moderno apartamento (2 a 6 personas)  a  9 min...   la Bordeta  "
      ]
     },
     "execution_count": 4,
     "metadata": {},
     "output_type": "execute_result"
    }
   ],
   "source": [
    "df.head(5)"
   ]
  },
  {
   "cell_type": "markdown",
   "id": "e52d82fa",
   "metadata": {},
   "source": [
    "Now we index this data, row by row, into the Vectara corpus"
   ]
  },
  {
   "cell_type": "code",
   "execution_count": 8,
   "id": "e3409e3e",
   "metadata": {},
   "outputs": [],
   "source": [
    "vectara_corpus_id = os.environ['VECTARA_CORPUS_ID']\n",
    "vectara_customer_id = os.environ['VECTARA_CUSTOMER_ID']\n",
    "vectara_api_key = os.environ['VECTARA_API_KEY']\n",
    "\n",
    "def get_post_headers() -> dict:\n",
    "    \"\"\"Returns headers that should be attached to each post request.\"\"\"\n",
    "    return {\n",
    "        \"x-api-key\": vectara_api_key,\n",
    "        \"customer-id\": vectara_customer_id,\n",
    "        \"Content-Type\": \"application/json\",\n",
    "    }\n",
    "\n",
    "def index_doc(session, doc: dict) -> str:\n",
    "    req = {\n",
    "        \"customerId\": vectara_customer_id,\n",
    "        \"corpusId\": vectara_corpus_id,\n",
    "        \"document\": doc\n",
    "    }\n",
    "\n",
    "    response = session.post(\n",
    "        headers=get_post_headers(),\n",
    "        url=\"https://api.vectara.io/v1/index\",\n",
    "        data=json.dumps(req),\n",
    "        timeout=250,\n",
    "        verify=True,\n",
    "    )\n",
    "\n",
    "    status_code = response.status_code\n",
    "    result = response.json()\n",
    "    \n",
    "    status_str = result[\"status\"][\"code\"] if \"status\" in result else None\n",
    "    if status_code == 409 or status_str and (status_str == \"ALREADY_EXISTS\"):\n",
    "        return \"E_ALREADY_EXISTS\"\n",
    "    elif status_str and (status_str == \"FORBIDDEN\"):\n",
    "        return \"E_NO_PERMISSIONS\"\n",
    "    else:\n",
    "        return \"E_SUCCEEDED\"\n",
    "\n",
    "def clean_md(s):\n",
    "    if not s:\n",
    "        return s\n",
    "    html_content = markdown.markdown(s)\n",
    "    soup = BeautifulSoup(html_content, features='html.parser')\n",
    "    return soup.get_text()\n",
    "\n",
    "def add_chunk(df_chunk, bar) -> None:\n",
    "    \"\"\"Ingest a df into Vectara.\"\"\"\n",
    "    session = requests.Session()\n",
    "    retry_strategy = Retry(total=5, backoff_factor=2)\n",
    "    adapter = requests.adapters.HTTPAdapter(max_retries=retry_strategy)\n",
    "    session.mount(\"https://\", adapter)\n",
    "\n",
    "    for row in df_chunk.to_dict(orient='records'):\n",
    "        metadata = {\n",
    "            'date': row['DATE'],\n",
    "            'reviewer': row['REVIEWER_NAME'],\n",
    "            'latitude': row['LATITUDE'],\n",
    "            'longitude': row['LONGITUDE'],\n",
    "            'neighborhood': row['NEIGHBORHOOD']\n",
    "        }\n",
    "        doc = {\n",
    "            \"documentId\": f\"Review {row['REVIEW_ID']}\",\n",
    "            \"metadataJson\": json.dumps(metadata),\n",
    "            \"title\": f\"Review by {row['REVIEWER_NAME']} on {row['DATE']}\",\n",
    "            \"section\": [\n",
    "                {'text': f\"{row['ROOM_TYPE']} property in {row['NEIGHBORHOOD']}, described as {clean_md(row['DESCRIPTION'])}\"},\n",
    "                {'text': clean_md(row['COMMENTS'])}\n",
    "            ],\n",
    "        }\n",
    "        print(doc)\n"
   ]
  },
  {
   "cell_type": "code",
   "execution_count": 6,
   "id": "54d0d286",
   "metadata": {},
   "outputs": [
    {
     "name": "stdout",
     "output_type": "stream",
     "text": [
      "Ingesting 763592 rows into Vectara\n"
     ]
    }
   ],
   "source": [
    "print(f\"Ingesting {len(df)} rows into Vectara\")"
   ]
  },
  {
   "cell_type": "code",
   "execution_count": 7,
   "id": "24354f4a",
   "metadata": {
    "scrolled": false
   },
   "outputs": [
    {
     "name": "stdout",
     "output_type": "stream",
     "text": [
      "Using Ray with 8 workers\n"
     ]
    },
    {
     "name": "stderr",
     "output_type": "stream",
     "text": [
      "2023-11-10 19:36:13,815\tINFO worker.py:1642 -- Started a local Ray instance.\n"
     ]
    },
    {
     "data": {
      "application/vnd.jupyter.widget-view+json": {
       "model_id": "8d770c002a7a474d97a3dc6ed65edff1",
       "version_major": 2,
       "version_minor": 0
      },
      "text/plain": [
       "(pid=73328)  0:   0%|          | 0/763592 [00:00<?, ?it/s]"
      ]
     },
     "metadata": {},
     "output_type": "display_data"
    }
   ],
   "source": [
    "#\n",
    "# use ray to parallelize ingest\n",
    "#\n",
    "\n",
    "ray_workers = 8\n",
    "print(f\"Using Ray with {ray_workers} workers\")\n",
    "\n",
    "ray.init(num_cpus=ray_workers, ignore_reinit_error=True, include_dashboard=False)\n",
    "remote_tqdm = ray.remote(tqdm_ray.tqdm)\n",
    "bar = remote_tqdm.remote(total=len(df))\n",
    "ray_add_chunk = ray.remote(add_chunk)\n",
    "\n",
    "chunks = np.array_split(df, ray_workers)\n",
    "futures = [ray_add_chunk.remote(chunk, bar) for chunk in chunks]\n",
    "_ = ray.get(futures)\n"
   ]
  },
  {
   "cell_type": "code",
   "execution_count": null,
   "id": "5811bc67",
   "metadata": {},
   "outputs": [],
   "source": []
  }
 ],
 "metadata": {
  "kernelspec": {
   "display_name": "Python 3 (ipykernel)",
   "language": "python",
   "name": "python3"
  },
  "language_info": {
   "codemirror_mode": {
    "name": "ipython",
    "version": 3
   },
   "file_extension": ".py",
   "mimetype": "text/x-python",
   "name": "python",
   "nbconvert_exporter": "python",
   "pygments_lexer": "ipython3",
   "version": "3.10.9"
  }
 },
 "nbformat": 4,
 "nbformat_minor": 5
}
